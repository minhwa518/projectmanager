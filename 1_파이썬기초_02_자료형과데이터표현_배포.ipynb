{
  "cells": [
    {
      "cell_type": "markdown",
      "metadata": {
        "id": "view-in-github",
        "colab_type": "text"
      },
      "source": [
        "<a href=\"https://colab.research.google.com/github/minhwa518/projectmanager/blob/main/1_%ED%8C%8C%EC%9D%B4%EC%8D%AC%EA%B8%B0%EC%B4%88_02_%EC%9E%90%EB%A3%8C%ED%98%95%EA%B3%BC%EB%8D%B0%EC%9D%B4%ED%84%B0%ED%91%9C%ED%98%84_%EB%B0%B0%ED%8F%AC.ipynb\" target=\"_parent\"><img src=\"https://colab.research.google.com/assets/colab-badge.svg\" alt=\"Open In Colab\"/></a>"
      ]
    },
    {
      "cell_type": "markdown",
      "id": "8daf7079",
      "metadata": {
        "id": "8daf7079"
      },
      "source": [
        "# 파이썬 기초 다지기"
      ]
    },
    {
      "cell_type": "markdown",
      "id": "3f3da3bd",
      "metadata": {
        "id": "3f3da3bd"
      },
      "source": [
        "## 2 - 파이썬 자료형과 데이터 표현\n",
        "파이썬의 다양한 데이터 타입과 다양한 연산자, 문자열"
      ]
    },
    {
      "cell_type": "markdown",
      "id": "0c52a67e",
      "metadata": {
        "id": "0c52a67e"
      },
      "source": [
        "----------------------------------"
      ]
    },
    {
      "cell_type": "markdown",
      "id": "1ff36611",
      "metadata": {
        "id": "1ff36611"
      },
      "source": [
        "## 2-1.파이썬 자료형(Data Type)"
      ]
    },
    {
      "cell_type": "markdown",
      "id": "278fb39c",
      "metadata": {
        "id": "278fb39c"
      },
      "source": [
        "### 수학 연산하기"
      ]
    },
    {
      "cell_type": "code",
      "execution_count": null,
      "id": "7ea3146f",
      "metadata": {
        "id": "7ea3146f"
      },
      "outputs": [],
      "source": [
        "\n"
      ]
    },
    {
      "cell_type": "markdown",
      "id": "105f773c",
      "metadata": {
        "id": "105f773c"
      },
      "source": [
        "### [실습문제]\n",
        "- 문제1: 10 + 3 x 4 결과 출력\n",
        "- 문제2: 아이폰 15대를 가지고 있다. 아이폰의 가격이 130만원 일 때 총 금액은?\n",
        "- 문제3: 주어진 자연수가 홀수인지 짝수인지 판별하는 방법은?\n",
        "- 문제4: 2x2x2x5x5x5x5x3x3x3x3을 제곱형태로 나타낸 후 그 결과 출력하기"
      ]
    },
    {
      "cell_type": "code",
      "execution_count": 36,
      "id": "7a853d89",
      "metadata": {
        "colab": {
          "base_uri": "https://localhost:8080/"
        },
        "id": "7a853d89",
        "outputId": "739aaad0-21ae-4237-e371-2649b4a758b8"
      },
      "outputs": [
        {
          "output_type": "stream",
          "name": "stdout",
          "text": [
            "10 + 3 x 4 = 22\n",
            "\n",
            "15 x 1300000 = 19500000\n",
            "15 x 1300000 = 19500000\n",
            "        15 x 1300000 = 19500000\n",
            "    15     x 1300000 = 19500000\n",
            "\n",
            "46 홀짝? 짝수\n",
            "\n",
            "2x2x2x5x5x5x5x3x3x3x3 = 405000\n"
          ]
        }
      ],
      "source": [
        "# 문제1: 10 + 3 x 4 결과 출력\n",
        "print('10 + 3 x 4 =', 10+3*4)\n",
        "print()  # 자동 줄바꿈기능\n",
        "\n",
        "# 문제2: 아이폰 15대를 가지고 있다. 아이폰의 가격이 130만원 일 때 총 금액은?\n",
        "iphone =15\n",
        "price = 1300000\n",
        "print('%d x %d = %d' % (iphone, price, iphone * price))\n",
        "print(f'{iphone} x {price} = {iphone * price}')\n",
        "print(f'{iphone:>10} x {price} = {iphone * price}')   # :>10 -> 오른쪽정렬로 10자리 잡아줘, ^ -> 가운데정렬\n",
        "print(f'{iphone:^10} x {price} = {iphone * price}')   # :^10 -> 가운데정렬로 10자리 잡아줘\n",
        "print()  # 자동 줄바꿈기능\n",
        "\n",
        "# 문제3: 주어진 자연수가 홀수인지 짝수인지 판별하는 방법은?\n",
        "import random\n",
        "number = random.randint(1, 100)   # 1~100까지의 임의의 정수\n",
        "if number%2==0 :       # number를 2로 나눠서 나머지가 0인 것: 짝수\n",
        "    print(number, '홀짝?', '짝수')\n",
        "else:\n",
        "    print(number, '홀짝?', '홀수')\n",
        "print()  # 자동 줄바꿈기능\n",
        "\n",
        "# 문제4: 2x2x2x5x5x5x5x3x3x3x3을 제곱형태로 나타낸 후 그 결과 출력하기\n",
        "print('2x2x2x5x5x5x5x3x3x3x3 =', 2**3 * 5**4 * 3**4)\n",
        "\n"
      ]
    },
    {
      "cell_type": "markdown",
      "id": "65487a5c",
      "metadata": {
        "id": "65487a5c"
      },
      "source": [
        "### 변수\n",
        "데이터를 저장할 수 있는 공간\n",
        "\n",
        "**변수 사용 시 주의사항**\n",
        "- 첫 글자는 영문, 혹은 _(언더바)로 시작할 것 (한글도 가능)\n",
        "- 영문자, 숫자, _(언더바)만으로 구성할 것 (공백문자 불가)\n",
        "- 대문자, 소문자 구분해서 사용할 것\n",
        "- 예약어는 피할 것"
      ]
    },
    {
      "cell_type": "code",
      "execution_count": null,
      "id": "c86ab944",
      "metadata": {
        "id": "c86ab944"
      },
      "outputs": [],
      "source": []
    },
    {
      "cell_type": "markdown",
      "id": "6b43e39d",
      "metadata": {
        "id": "6b43e39d"
      },
      "source": [
        "### 파이썬 자료형"
      ]
    },
    {
      "cell_type": "code",
      "execution_count": 27,
      "id": "bdcd0ef1",
      "metadata": {
        "id": "bdcd0ef1",
        "colab": {
          "base_uri": "https://localhost:8080/"
        },
        "outputId": "7646f5e1-d568-4ee0-ed53-d1aa3da8e1b7"
      },
      "outputs": [
        {
          "output_type": "stream",
          "name": "stdout",
          "text": [
            "데이터 123의 자료형: <class 'int'>\n",
            "데이터 123의 자료형: <class 'str'>\n",
            "데이터 [123]의 자료형: <class 'list'>\n",
            "데이터 (123,)의 자료형: <class 'tuple'>\n",
            "데이터 {'key': 123}의 자료형: <class 'dict'>\n",
            "데이터 {123}의 자료형: <class 'set'>\n",
            "데이터 True의 자료형: <class 'bool'>\n"
          ]
        }
      ],
      "source": [
        "d1 = 123\n",
        "d2 = '123'\n",
        "d3 = [123]\n",
        "d4 = (123,)\n",
        "d5 = {'key':123}\n",
        "d6 = {123}\n",
        "d7 = True\n",
        "\n",
        "print(f'데이터 {d1}의 자료형: {type(d1)}')\n",
        "print(f'데이터 {d2}의 자료형: {type(d2)}')\n",
        "print(f'데이터 {d3}의 자료형: {type(d3)}')\n",
        "print(f'데이터 {d4}의 자료형: {type(d4)}')\n",
        "print(f'데이터 {d5}의 자료형: {type(d5)}')\n",
        "print(f'데이터 {d6}의 자료형: {type(d6)}')\n",
        "print(f'데이터 {d7}의 자료형: {type(d7)}')"
      ]
    },
    {
      "cell_type": "markdown",
      "id": "7cda86df",
      "metadata": {
        "id": "7cda86df"
      },
      "source": [
        "### 표준 입력과 출력\n",
        "- 키보드로부터 입력을 받는 함수( input() )을 표준 입력함수라 한다.\n",
        "- 화면에 출력하는 함수( print() )를 표준 출력함수라 한다."
      ]
    },
    {
      "cell_type": "code",
      "execution_count": 47,
      "id": "00ff5c37",
      "metadata": {
        "id": "00ff5c37",
        "colab": {
          "base_uri": "https://localhost:8080/"
        },
        "outputId": "303267df-cead-4ab7-9078-1c032d32816f"
      },
      "outputs": [
        {
          "output_type": "stream",
          "name": "stdout",
          "text": [
            "숫자를 입력하세요: 666\n",
            "변수 a의 값: 666.0, <class 'float'>\n"
          ]
        }
      ],
      "source": [
        "# 표준 입력(키보드로부터 데이터를 입력 받는 것)\n",
        "# a = input('숫자를 입력하세요: ')\n",
        "# a = float(a)\n",
        "# 파이썬은 아래와 같이 감싸서 짧게 쓰도록 해본다.\n",
        "a = float( input('숫자를 입력하세요: ') )\n",
        "#a = list(int( input('숫자를 입력하세요: ') ))   -> 오류난다\n",
        "#a = list(map(int, input('숫자들을 입력하세요 (공백으로 구분): ').split()))\n",
        "\n",
        "\n",
        "# 표준 출력\n",
        "print(f'변수 a의 값: {a}, {type(a)}')\n",
        "\n"
      ]
    },
    {
      "cell_type": "markdown",
      "id": "18bc822a",
      "metadata": {
        "id": "18bc822a"
      },
      "source": [
        "#### 문자열 데이터를 숫자(정수)로 변환하기"
      ]
    },
    {
      "cell_type": "code",
      "execution_count": null,
      "id": "aaf9890f",
      "metadata": {
        "id": "aaf9890f"
      },
      "outputs": [],
      "source": [
        "# 문자열 데이터를 숫자(정수)로 변환하기\n",
        "\n"
      ]
    },
    {
      "cell_type": "markdown",
      "id": "c0436ecb",
      "metadata": {
        "id": "c0436ecb"
      },
      "source": [
        "#### 다양한 변수 출력 방법"
      ]
    },
    {
      "cell_type": "code",
      "execution_count": null,
      "id": "7d2e160d",
      "metadata": {
        "scrolled": true,
        "id": "7d2e160d"
      },
      "outputs": [],
      "source": [
        "a = input('키보드로 숫자를 입력해 주세요 ')\n",
        "\n",
        "print('변수 a에 기억된 값은 )\n",
        "\n",
        "\n",
        "\n"
      ]
    },
    {
      "cell_type": "markdown",
      "id": "7ea5c22e",
      "metadata": {
        "id": "7ea5c22e"
      },
      "source": [
        "### [실습문제] : 계산기 프로그램 만들기\n",
        "정수 2개를 키보드로 각각 입력 받아 아래와 같이 덧셈, 뺄셈, 곱셈, 몫, 나머지를\n",
        "\n",
        "\n",
        "출력하는 프로그램을 만들어 보세요.\n"
      ]
    },
    {
      "cell_type": "code",
      "execution_count": 49,
      "id": "fa128ef7",
      "metadata": {
        "id": "fa128ef7",
        "colab": {
          "base_uri": "https://localhost:8080/"
        },
        "outputId": "92455e0d-812c-4452-f866-445f01741544"
      },
      "outputs": [
        {
          "output_type": "stream",
          "name": "stdout",
          "text": [
            "첫번째 숫자: 100\n",
            "두번째 숫자: 30\n",
            "--------------------------------------------------\n",
            "덧셈: 100 + 30 = 130\n",
            "뺄셈: 100 - 30 = 70\n",
            "곱셈: 100 * 30 = 3000\n",
            "나눗셈: 100 / 30 = 3.333333\n"
          ]
        }
      ],
      "source": [
        "num1 = int(input('첫번째 숫자: '))\n",
        "num2 = int(input('두번째 숫자: '))\n",
        "print('-' * 50)  # 문자열에서 * 뜻은? 반복해라~!\n",
        "print('덧셈: %d + %d = %d' % (num1, num2, num1+num2) ) # 변수 여러개는 괄호를 꼭 써줘야 오류 안난다.\n",
        "print('뺄셈: %d - %d = %d' % (num1, num2, num1-num2) )\n",
        "print('곱셈: %d * %d = %d' % (num1, num2, num1*num2) )\n",
        "print('나눗셈: %d / %d = %f' % (num1, num2, num1/num2) ) # 나눗셈 하면 소수점 나올 수 있으니까 실수형으로!!\n",
        "\n",
        "\n",
        "\n"
      ]
    },
    {
      "cell_type": "markdown",
      "id": "ca1816b6",
      "metadata": {
        "id": "ca1816b6"
      },
      "source": [
        "- f'string' 함수를 이용해 출력하기"
      ]
    },
    {
      "cell_type": "code",
      "execution_count": 51,
      "id": "8b486e15",
      "metadata": {
        "id": "8b486e15",
        "colab": {
          "base_uri": "https://localhost:8080/"
        },
        "outputId": "d981caff-6e28-4d57-e5c9-b90d9b920f79"
      },
      "outputs": [
        {
          "output_type": "stream",
          "name": "stdout",
          "text": [
            "첫번째 숫자: 100\n",
            "두번째 숫자: 30\n",
            "--------------------------------------------------\n",
            "덧셈: 100 + 30 = 130\n",
            "뺄셈: 100 - 30 = 70\n",
            "곱셈: 100 * 30 = 3000\n",
            "나눗셈: 100 / 30 = 3.33\n"
          ]
        }
      ],
      "source": [
        "num1 = int(input('첫번째 숫자: '))\n",
        "num2 = int(input('두번째 숫자: '))\n",
        "print('-' * 50)  # 문자열에서 * 뜻은? 반복해라~!\n",
        "print(f'덧셈: {num1} + {num2} = {num1+num2}' )\n",
        "print(f'뺄셈: {num1} - {num2} = {num1-num2}' )\n",
        "print(f'곱셈: {num1} * {num2} = {num1*num2}' )\n",
        "print(f'나눗셈: {num1} / {num2} = {num1/num2:.2f}' )   # 소숫점 아래 둘째자리까지 표시\n",
        "\n",
        "# f'string' 함수는 자료형 지정 안해줘도 된다."
      ]
    },
    {
      "cell_type": "markdown",
      "id": "157b41ef",
      "metadata": {
        "id": "157b41ef"
      },
      "source": [
        "### [실습문제] : 시간 계산 프로그램\n",
        "속력과 거리를 입력 받아 시간을 계산하여 출력하는 프로그램을 만드세요!\n",
        "- 시간 = 거리 / 속력"
      ]
    },
    {
      "cell_type": "code",
      "execution_count": 62,
      "id": "93102e01",
      "metadata": {
        "id": "93102e01",
        "colab": {
          "base_uri": "https://localhost:8080/"
        },
        "outputId": "6de49611-fd6f-4dea-fd1d-d11c9706e972"
      },
      "outputs": [
        {
          "output_type": "stream",
          "name": "stdout",
          "text": [
            "속력를 입력해 주세요(km/h) : 700\n",
            "거리를 입력해 주세요(km) : 325\n",
            "--------------------------------------------------\n",
            "속력: 700.0 km/h\n",
            "거리: 325.0 km\n",
            "시간: 0.4642857142857143 h\n"
          ]
        }
      ],
      "source": [
        "velocity = float( input('속력를 입력해 주세요(km/h) : ') )   #  int로 하면 결과가 왜곡될 수 있다.\n",
        "distance = float( input('거리를 입력해 주세요(km) : ') )\n",
        "print('-' * 50)\n",
        "\n",
        "\n",
        "print(f'속력: {velocity} km/h')\n",
        "print(f'거리: {distance} km')\n",
        "print(f'시간: {distance / velocity} h')"
      ]
    },
    {
      "cell_type": "markdown",
      "id": "89f48168",
      "metadata": {
        "id": "89f48168"
      },
      "source": [
        "- eval()함수 사용하여 문자열을 계산할 수 있다"
      ]
    },
    {
      "cell_type": "code",
      "execution_count": 68,
      "id": "39dab77c",
      "metadata": {
        "id": "39dab77c",
        "colab": {
          "base_uri": "https://localhost:8080/"
        },
        "outputId": "357af0c1-de24-42f6-becf-16505f7ddb34"
      },
      "outputs": [
        {
          "output_type": "execute_result",
          "data": {
            "text/plain": [
              "70.0"
            ]
          },
          "metadata": {},
          "execution_count": 68
        }
      ],
      "source": [
        "# eval()함수 사용\n",
        "eval('10+40*3/2')\n"
      ]
    },
    {
      "cell_type": "code",
      "source": [
        "velocity = input('속력를 입력해 주세요(km/h) : ')\n",
        "distance = input('거리를 입력해 주세요(km) : ')\n",
        "time = eval(f'{distance}/{velocity}')\n",
        "print(f'걸린 시간은 {time}h = {distance}km / {velocity}km/h')"
      ],
      "metadata": {
        "colab": {
          "base_uri": "https://localhost:8080/"
        },
        "id": "79Ndx2z6c_Ou",
        "outputId": "755aa9cf-f9bf-4950-abcf-1fef0c150b77"
      },
      "id": "79Ndx2z6c_Ou",
      "execution_count": 69,
      "outputs": [
        {
          "output_type": "stream",
          "name": "stdout",
          "text": [
            "속력를 입력해 주세요(km/h) : 100\n",
            "거리를 입력해 주세요(km) : 325\n",
            "걸린 시간은 3.25h = 325km / 100km/h\n"
          ]
        }
      ]
    },
    {
      "cell_type": "markdown",
      "id": "85b8c542",
      "metadata": {
        "id": "85b8c542"
      },
      "source": [
        "### 내장 수학 함수\n",
        "- 파이썬 내장 함수 https://docs.python.org/ko/3.10/library/functions.html"
      ]
    },
    {
      "cell_type": "code",
      "execution_count": 70,
      "id": "2bfba8be",
      "metadata": {
        "scrolled": true,
        "id": "2bfba8be",
        "colab": {
          "base_uri": "https://localhost:8080/"
        },
        "outputId": "bc0e1755-1c9d-4cac-b07c-625e40efd83a"
      },
      "outputs": [
        {
          "output_type": "stream",
          "name": "stdout",
          "text": [
            "원주율: 3.141592653589793\n",
            "절대값: 3.14\n",
            "반올림: -3\n",
            "올림  : -3\n",
            "내림  : -4\n",
            "제곱  : 256.0\n",
            "제곱근: 2.0\n",
            "로그  : 2.302585092994046\n"
          ]
        }
      ],
      "source": [
        "import math\n",
        "\n",
        "a = -3.14\n",
        "\n",
        "print(f'원주율: {math.pi}')\n",
        "print(f'절대값: {abs(a) }')\n",
        "print(f'반올림: {round(a) }')\n",
        "print(f'올림  : {math.ceil(a) }')\n",
        "print(f'내림  : {math.floor(a) }')\n",
        "print(f'제곱  : {math.pow(2, 8) }')\n",
        "print(f'제곱근: {math.sqrt(4) }')\n",
        "print(f'로그  : {math.log(10) }')"
      ]
    },
    {
      "cell_type": "markdown",
      "id": "c8147e87",
      "metadata": {
        "id": "c8147e87"
      },
      "source": [
        "### [실습문제]: 수학 함수 사용하여 계산하기\n",
        "- 문제1: 반지름이 4인 원의 넓이 출력\n",
        "- 문제2: 3.14 곱하가 2 나누기 7의 값을 반올림하여 계산 결과 출력\n",
        "- 문제3: 원주율을 3.14로 만들어서 반지름이 4인 원의 둘레의 길이 출력"
      ]
    },
    {
      "cell_type": "code",
      "execution_count": 78,
      "id": "45ed86c9",
      "metadata": {
        "id": "45ed86c9",
        "colab": {
          "base_uri": "https://localhost:8080/"
        },
        "outputId": "5b6b036c-786e-4c1c-ce91-b6472ec5dc49"
      },
      "outputs": [
        {
          "output_type": "stream",
          "name": "stdout",
          "text": [
            "원의 넓이: 50.26548245743669\n",
            "반올림: 1\n",
            "원의 둘레: 25.12\n"
          ]
        }
      ],
      "source": [
        "r = 4\n",
        "\n",
        "# 문제1: 반지름이 4인 원의 넓이 출력\n",
        "print(f'원의 넓이: {math.pow(r, 2) * math.pi}')\n",
        "\n",
        "# 문제2: 3.14 곱하기 2 나누기 7의 값을 반올림하여 계산 결과 출력\n",
        "print(f'반올림: {round(3.14 * 2 / 7)}')\n",
        "\n",
        "# 문제3: 원주율을 3.14로 만들어서 반지름이 4인 원의 둘레의 길이 출력\n",
        "print(f'원의 둘레: {r*2*round(math.pi, 2)}')"
      ]
    },
    {
      "cell_type": "code",
      "source": [
        "r = 4\n",
        "\n",
        "# 문제1: 반지름이 4인 원의 넓이 출력\n",
        "print(f'반지름이 4인 원의 넓이: {math.pi * 4**2}')\n",
        "\n",
        "# 문제2: 3.14 곱하기 2 나누기 7의 값을 반올림하여 계산 결과 출력\n",
        "print(f'3.14 곱하기 2 나누기 7의 값을 반올림: {round(3.14 * 2 / 7)}')\n",
        "\n",
        "# 문제3: 원주율을 3.14로 만들어서 반지름이 4인 원의 둘레의 길이 출력\n",
        "print(f'원의 둘레: {r*2*round(math.pi, 2)}')"
      ],
      "metadata": {
        "colab": {
          "base_uri": "https://localhost:8080/"
        },
        "id": "-5KTZuTNgGOL",
        "outputId": "430af63b-496c-4298-f2e2-79011ac586d5"
      },
      "id": "-5KTZuTNgGOL",
      "execution_count": 81,
      "outputs": [
        {
          "output_type": "stream",
          "name": "stdout",
          "text": [
            "반지름이 4인 원의 넓이: 50.26548245743669\n",
            "3.14 곱하기 2 나누기 7의 값을 반올림: 1\n",
            "원의 둘레: 25.12\n"
          ]
        }
      ]
    },
    {
      "cell_type": "code",
      "source": [
        "a = input('정수를 입력하세요: ')\n",
        "\n",
        "print(f'{a} + {a*2} + {a*3} = {int(a) + int(a*2) + int(a*3)}')"
      ],
      "metadata": {
        "colab": {
          "base_uri": "https://localhost:8080/"
        },
        "id": "h_W0YXjum9PA",
        "outputId": "d8efe43a-f499-419d-8a7c-190a00c58f9c"
      },
      "id": "h_W0YXjum9PA",
      "execution_count": 116,
      "outputs": [
        {
          "output_type": "stream",
          "name": "stdout",
          "text": [
            "정수를 입력하세요: 7\n",
            "7 + 77 + 777 = 861\n"
          ]
        }
      ]
    },
    {
      "cell_type": "code",
      "source": [
        "a = input('정수를 입력하세요: ')\n",
        "result = f\"{a}+{a*2}+{a*3}\"\n",
        "print(f'{result} = {eval(result)}')"
      ],
      "metadata": {
        "colab": {
          "base_uri": "https://localhost:8080/"
        },
        "id": "rC1D1O05tcVl",
        "outputId": "7248a122-fc9f-4008-df61-58c2d84a14a3"
      },
      "id": "rC1D1O05tcVl",
      "execution_count": 117,
      "outputs": [
        {
          "output_type": "stream",
          "name": "stdout",
          "text": [
            "정수를 입력하세요: 7\n",
            "7+77+777 = 861\n"
          ]
        }
      ]
    },
    {
      "cell_type": "code",
      "source": [],
      "metadata": {
        "id": "JIFvjoV5tsEN"
      },
      "id": "JIFvjoV5tsEN",
      "execution_count": null,
      "outputs": []
    },
    {
      "cell_type": "markdown",
      "id": "32f4b4ce",
      "metadata": {
        "id": "32f4b4ce"
      },
      "source": [
        "---------------------------"
      ]
    },
    {
      "cell_type": "markdown",
      "id": "12be6789",
      "metadata": {
        "id": "12be6789"
      },
      "source": [
        "## 2-2.문자와 문자열"
      ]
    },
    {
      "cell_type": "markdown",
      "id": "90255097",
      "metadata": {
        "id": "90255097"
      },
      "source": [
        "#### 문자와 문자열 변환"
      ]
    },
    {
      "cell_type": "code",
      "execution_count": null,
      "id": "a52f17d8",
      "metadata": {
        "id": "a52f17d8"
      },
      "outputs": [],
      "source": [
        "# 문자 --> 숫자(정수) 로 변환 : ord() 함수 사용\n",
        "print( ord('A') )\n",
        "print( ord('!') )\n",
        "print( ord('가') )"
      ]
    },
    {
      "cell_type": "code",
      "execution_count": null,
      "id": "88bbb733",
      "metadata": {
        "id": "88bbb733"
      },
      "outputs": [],
      "source": [
        "# 숫자(정수) --> 문자 로 변환 : chr() 함수 사용\n",
        "print( chr(65) )\n",
        "print( chr(66) )\n",
        "print( chr(97) )\n",
        "print( chr(98) )\n",
        "print( chr(44032) )\n",
        "print( chr(44033) )"
      ]
    },
    {
      "cell_type": "code",
      "execution_count": null,
      "id": "1cbfb609",
      "metadata": {
        "id": "1cbfb609"
      },
      "outputs": [],
      "source": [
        "# 문자 --> 숫자 --> 이진수 로 변환\n",
        "for c in '파이썬':\n",
        "    숫자변환 = ord(c)              # unicode\n",
        "    이진수변환 = bin(숫자변환)     # 16진수 binarycode\n",
        "    print( 이진수변환, end = ' ')  # 한 줄로 표현하기"
      ]
    },
    {
      "cell_type": "code",
      "execution_count": null,
      "id": "d9577a3f",
      "metadata": {
        "id": "d9577a3f"
      },
      "outputs": [],
      "source": [
        "for c in '파이썬':\n",
        "    # 이진수에서 앞'0b'를 없애기 위해 format() 함수 사용할 수 있다.\n",
        "    print( format(ord(c), 'b'), end = ' ')  # 한 줄로 표현하기"
      ]
    },
    {
      "cell_type": "markdown",
      "id": "c87a0c03",
      "metadata": {
        "id": "c87a0c03"
      },
      "source": [
        "### 문자열 따옴표로 지정"
      ]
    },
    {
      "cell_type": "markdown",
      "id": "e343167b",
      "metadata": {
        "id": "e343167b"
      },
      "source": [
        "#### 큰 따옴표  or 작은 따옴표로 지정한다"
      ]
    },
    {
      "cell_type": "code",
      "execution_count": null,
      "id": "fae54804",
      "metadata": {
        "id": "fae54804"
      },
      "outputs": [],
      "source": [
        "print('Hello')\n",
        "print(\"Hello\")\n",
        "print(\"Hello 'world\")\n",
        "print('Hello \"world')\n",
        "print(' \"Yes, I can!\" ')"
      ]
    },
    {
      "cell_type": "markdown",
      "id": "66f9d31e",
      "metadata": {
        "id": "66f9d31e"
      },
      "source": [
        "#### 따옴표 세 개 사용 : 여러 줄로 표현할 때"
      ]
    },
    {
      "cell_type": "code",
      "execution_count": null,
      "id": "48fe4ca0",
      "metadata": {
        "id": "48fe4ca0"
      },
      "outputs": [],
      "source": [
        "a = '''박씨가 소리질렀다.\n",
        "도둑이야!'''\n",
        "print(a)"
      ]
    },
    {
      "cell_type": "code",
      "execution_count": null,
      "id": "b32c2a51",
      "metadata": {
        "scrolled": true,
        "id": "b32c2a51"
      },
      "outputs": [],
      "source": [
        "a = '''OOO카페 메뉴판\n",
        "- 아메리카노:  3000원\n",
        "- 카페라테:     4000원\n",
        "- 카페모카:     5000원'''\n",
        "print(a)"
      ]
    },
    {
      "cell_type": "markdown",
      "id": "fb8a7c56",
      "metadata": {
        "id": "fb8a7c56"
      },
      "source": [
        "### [실습] 주문받아 출력하기"
      ]
    },
    {
      "cell_type": "code",
      "execution_count": null,
      "id": "3a4d57f5",
      "metadata": {
        "id": "3a4d57f5"
      },
      "outputs": [],
      "source": [
        "# 주문받아 출력하기\n",
        "menu = a\n",
        "\n"
      ]
    },
    {
      "cell_type": "markdown",
      "id": "38c40628",
      "metadata": {
        "id": "38c40628"
      },
      "source": [
        "### 문자열 연산\n",
        "- (+): 문자열 연결하기"
      ]
    },
    {
      "cell_type": "code",
      "execution_count": null,
      "id": "6af90aaf",
      "metadata": {
        "id": "6af90aaf"
      },
      "outputs": [],
      "source": [
        "\n"
      ]
    },
    {
      "cell_type": "markdown",
      "id": "a27ee4d1",
      "metadata": {
        "id": "a27ee4d1"
      },
      "source": [
        "- (*) : 반복의 의미"
      ]
    },
    {
      "cell_type": "code",
      "execution_count": null,
      "id": "229965c2",
      "metadata": {
        "id": "229965c2"
      },
      "outputs": [],
      "source": [
        "\n"
      ]
    },
    {
      "cell_type": "markdown",
      "id": "2d2a3e0e",
      "metadata": {
        "id": "2d2a3e0e"
      },
      "source": [
        "### [실습문제] 문자열 출력하기\n",
        "- 문제1: 화면에   Mary’s cosmetics   출력\n",
        "- 문제2: 화면에  박씨가 소리질렀다. “도둑이야!”.  출력\n",
        "- 문제3: 다음 코드 실행시켜서 \\t와 \\n의 역할 확인하기 <br>\n",
        "print(\"안녕하세요.\\n오늘\\t날씨가\\t\\t좋습니다.\")    "
      ]
    },
    {
      "cell_type": "code",
      "execution_count": null,
      "id": "36f87e66",
      "metadata": {
        "id": "36f87e66"
      },
      "outputs": [],
      "source": [
        "\n"
      ]
    },
    {
      "cell_type": "markdown",
      "id": "13245f26",
      "metadata": {
        "id": "13245f26"
      },
      "source": [
        "-------------------"
      ]
    },
    {
      "cell_type": "markdown",
      "id": "020d1cc5",
      "metadata": {
        "id": "020d1cc5"
      },
      "source": [
        "## 2-3.문자열 인덱싱과 슬라이싱"
      ]
    },
    {
      "cell_type": "code",
      "execution_count": null,
      "id": "9c875a9b",
      "metadata": {
        "id": "9c875a9b"
      },
      "outputs": [],
      "source": [
        "a = '우리는 민족중흥의 역사적 사명을 띠고 이 땅에 태어났다.'\n",
        "print( )"
      ]
    },
    {
      "cell_type": "code",
      "execution_count": null,
      "id": "e50df3b3",
      "metadata": {
        "id": "e50df3b3"
      },
      "outputs": [],
      "source": [
        "fruits = 'orange'\n",
        "print( )\n"
      ]
    },
    {
      "cell_type": "markdown",
      "id": "1aecf2d0",
      "metadata": {
        "id": "1aecf2d0"
      },
      "source": [
        "---------------------------"
      ]
    },
    {
      "cell_type": "markdown",
      "id": "0f48d7cf",
      "metadata": {
        "id": "0f48d7cf"
      },
      "source": [
        "## 2-4.변수 활용"
      ]
    },
    {
      "cell_type": "markdown",
      "id": "d26c5d6e",
      "metadata": {
        "id": "d26c5d6e"
      },
      "source": [
        "### [실습문제]: 지불할 음식 총 가격 계산하기\n",
        "- 음식가격:  4,450 원\n",
        "- 세금: 6.75%\n",
        "- 팁: 15%\n",
        "1. meal 변수를 선언하고 값을 4450으로 지정하세요.\n",
        "2. tax 변수를 생성하고 값으로 6.75%를 소수점 형태로 지정하세요.\n",
        "3. tip 변수를 생성하고 값으로 15%를 소수점 형태로 지정하세요.\n",
        "4. meal의 변수값에 세금을 곱해 meal 변수에 지정하세요.\n",
        "5. 음식값에 tip을 더해 total 변수에 지정하세요.\n",
        "6. total 변수 값을 출력하세요."
      ]
    },
    {
      "cell_type": "code",
      "execution_count": null,
      "id": "933828b3",
      "metadata": {
        "id": "933828b3"
      },
      "outputs": [],
      "source": [
        "meal = 4450    # 1.음식가격\n",
        "tax = 0.0675   # 2.세금\n",
        "tip = 0.15     # 3.팁\n",
        "\n"
      ]
    },
    {
      "cell_type": "markdown",
      "id": "a4fa74c9",
      "metadata": {
        "id": "a4fa74c9"
      },
      "source": [
        "### [실습문제]: 섭씨온도를 화씨온도로 변환하기\n",
        "- 섭씨 온도 (Celsius): 1 atm에서의 물의 어는점을 0도, 끓는점을 100도로 정한 온도 체계. (°C)\n",
        "\n",
        "\n",
        "- 화씨 온도 (Fahrenheit): 물이 어는 온도는 32도, 물이 끓는 온도는 212도. 180등분. (°F)\n",
        "- 섭씨온도(℃) = (5 / 9) × (℉ - 32)  # Celsius\n",
        "- 화씨온도(℉) = (9 / 5) × ℃ + 32    # Fahrenheit"
      ]
    },
    {
      "cell_type": "code",
      "execution_count": null,
      "id": "d65f3301",
      "metadata": {
        "scrolled": true,
        "id": "d65f3301"
      },
      "outputs": [],
      "source": [
        "# c_temp = input()   #키보드로부터 입력을 받는 함수: input()\n",
        "# c_temp = int(c_temp)  # 정수로 변환: int()\n",
        "# print(c_temp, type(c_temp) )\n",
        "\n"
      ]
    },
    {
      "cell_type": "markdown",
      "id": "a57cbf87",
      "metadata": {
        "id": "a57cbf87"
      },
      "source": [
        "-------"
      ]
    },
    {
      "cell_type": "markdown",
      "id": "f0265f78",
      "metadata": {
        "id": "f0265f78"
      },
      "source": [
        "## 2-5.연산자"
      ]
    },
    {
      "cell_type": "markdown",
      "id": "bff8051d",
      "metadata": {
        "id": "bff8051d"
      },
      "source": [
        "### [실습문제]: 동전 교환 프로그램 만들기"
      ]
    },
    {
      "cell_type": "code",
      "execution_count": null,
      "id": "105db988",
      "metadata": {
        "id": "105db988"
      },
      "outputs": [],
      "source": [
        "# 키보드로부터 금액 입력 받기\n",
        "print('---동전교환기 프로그램을 작동합니다.---')\n",
        "money = int( input('금액을 입력하세요: '))\n",
        "print('동전으로 교환하겠습니다.---------')\n",
        "\n",
        "\n",
        "\n",
        "\n"
      ]
    },
    {
      "cell_type": "markdown",
      "id": "f359d4a1",
      "metadata": {
        "id": "f359d4a1"
      },
      "source": [
        "-----------------------------------------"
      ]
    },
    {
      "cell_type": "markdown",
      "id": "d8c018ca",
      "metadata": {
        "id": "d8c018ca"
      },
      "source": [
        "## 2-6.리스트(List)\n",
        "- 리스트는 여러 개의 데이터 값을 하나의 변수에 담을 수 있는 데이터 구조\n",
        "- 리스트는 순서(인덱스)가 있고 데이터를 수정, 삭제, 추가 가능하다.\n",
        "- 대괄호로 표현되고 내부 원소는 ,(쉼표)로 구분됨"
      ]
    },
    {
      "cell_type": "markdown",
      "id": "693f2484",
      "metadata": {
        "id": "693f2484"
      },
      "source": [
        "### 리스트 생성"
      ]
    },
    {
      "cell_type": "code",
      "execution_count": null,
      "id": "a1b79606",
      "metadata": {
        "id": "a1b79606"
      },
      "outputs": [],
      "source": [
        "a = list()\n",
        "a = []\n",
        "a = [1,2,3]\n",
        "a = ['I', 'Love', 'Python']\n",
        "b = [1,2, '사랑해요', 'Python']\n",
        "b = ['a', '1', 1, [2,3], -4]\n",
        "a = [1,2,['a','b',['사랑해', '파이썬']], 3]"
      ]
    },
    {
      "cell_type": "code",
      "execution_count": null,
      "id": "df23f6cf",
      "metadata": {
        "id": "df23f6cf"
      },
      "outputs": [],
      "source": [
        "print(a)\n",
        "print(b)"
      ]
    },
    {
      "cell_type": "markdown",
      "id": "7eef7d7c",
      "metadata": {
        "id": "7eef7d7c"
      },
      "source": [
        "### 리스트 삭제"
      ]
    },
    {
      "cell_type": "code",
      "execution_count": null,
      "id": "52a5a894",
      "metadata": {
        "id": "52a5a894"
      },
      "outputs": [],
      "source": [
        "del(b)\n",
        "\n",
        "print(a)\n",
        "print(b)"
      ]
    },
    {
      "cell_type": "markdown",
      "id": "b3ab38e4",
      "metadata": {
        "id": "b3ab38e4"
      },
      "source": [
        "### 리스트 요소에 접근"
      ]
    },
    {
      "cell_type": "code",
      "execution_count": null,
      "id": "d36d5b62",
      "metadata": {
        "scrolled": true,
        "id": "d36d5b62"
      },
      "outputs": [],
      "source": [
        "print( a[1] )\n",
        "print( a[2] )\n",
        "print( a[2][1] )\n",
        "# '파이썬'을 출력하려면?\n"
      ]
    },
    {
      "cell_type": "markdown",
      "id": "b7811d5d",
      "metadata": {
        "id": "b7811d5d"
      },
      "source": [
        "### 리스트 요소 추가 / 변경"
      ]
    },
    {
      "cell_type": "code",
      "execution_count": null,
      "id": "010220d8",
      "metadata": {
        "id": "010220d8"
      },
      "outputs": [],
      "source": [
        "print(a)\n",
        "a.append('봄')     # 리스트 맨 끝에 추가\n",
        "print(a)\n",
        "a.insert(1, '봄')  # 리스트명.insert(인덱스위치, 값)\n",
        "print(a)"
      ]
    },
    {
      "cell_type": "markdown",
      "id": "5a5820d1",
      "metadata": {
        "id": "5a5820d1"
      },
      "source": [
        "### 리스트 요소 삭제"
      ]
    },
    {
      "cell_type": "code",
      "execution_count": null,
      "id": "e4c76b68",
      "metadata": {
        "id": "e4c76b68"
      },
      "outputs": [],
      "source": [
        "print(a)\n",
        "a.pop()     # 리스트 맨 끝 요소 삭제\n",
        "print(a)\n",
        "a.remove('봄')  # 리스트명.remove(값), 단 여러 개 일 경우 첫 번째만 삭제됨\n",
        "print(a)"
      ]
    },
    {
      "cell_type": "markdown",
      "id": "df6f6d08",
      "metadata": {
        "id": "df6f6d08"
      },
      "source": [
        "## 2-7.딕셔너리(Dictionary)\n",
        "- 딕셔너리는 쌍이 하나로 묶인 자료구조\n",
        "- 인덱스를 의미하는 ‘키(key)'와 자료의 내용인 ‘ 값(value)'을 이용하여  데이터를 관리\n",
        "- 중괄호 { }로 묶어 구성, 키(Key)와 값(Value)의 쌍으로 구성\n",
        "- 순서(sequence)가 없다"
      ]
    },
    {
      "cell_type": "markdown",
      "id": "4393e9e4",
      "metadata": {
        "id": "4393e9e4"
      },
      "source": [
        "### 딕셔너리 생성"
      ]
    },
    {
      "cell_type": "code",
      "execution_count": null,
      "id": "da6bca38",
      "metadata": {
        "id": "da6bca38"
      },
      "outputs": [],
      "source": [
        "members = {'name':'진', 'age':29, 'email':'jin@gggmail.com'}"
      ]
    },
    {
      "cell_type": "markdown",
      "id": "b5f4d763",
      "metadata": {
        "id": "b5f4d763"
      },
      "source": [
        "### 딕셔너리 키(key)와 값(value)에 접근하기"
      ]
    },
    {
      "cell_type": "code",
      "execution_count": null,
      "id": "0697a654",
      "metadata": {
        "id": "0697a654"
      },
      "outputs": [],
      "source": [
        "scores = {'국어': 100, '수학': 90, '영어': 80}\n",
        "\n",
        "print(scores['국어'])  # 딕셔너리는 키로 접근한다.\n",
        "\n",
        "# 방법1\n",
        "print('---방법1---')\n",
        "for key in scores:\n",
        "    print('%s => %s' % (key, scores[key]))\n",
        "\n",
        "# 방법2\n",
        "print('---방법2---')\n",
        "for key, value in scores.items():\n",
        "    print('%s => %s' % (key, value))"
      ]
    },
    {
      "cell_type": "code",
      "execution_count": null,
      "id": "011745db",
      "metadata": {
        "id": "011745db"
      },
      "outputs": [],
      "source": [
        "print(scores.keys())   # 키만 추출\n",
        "print(scores.values()) # 키만 추출\n",
        "print(scores.items())  # (키,값)쌍 형태로 추출"
      ]
    },
    {
      "cell_type": "markdown",
      "id": "7d76f114",
      "metadata": {
        "id": "7d76f114"
      },
      "source": [
        "### 딕셔너리에 요소 추가/수정/삭제"
      ]
    },
    {
      "cell_type": "code",
      "execution_count": null,
      "id": "f15a3506",
      "metadata": {
        "id": "f15a3506"
      },
      "outputs": [],
      "source": [
        "# 키로 요소 추가하기\n",
        "scores['music'] = 100\n",
        "print(scores)\n",
        "\n",
        "# 요소 값 수정하기\n",
        "scores['수학'] = 99\n",
        "print(scores)\n",
        "\n",
        "# 요소 삭제하기\n",
        "del (scores['영어'])\n",
        "print(scores)"
      ]
    },
    {
      "cell_type": "markdown",
      "id": "45e329e4",
      "metadata": {
        "id": "45e329e4"
      },
      "source": [
        "------------------------"
      ]
    },
    {
      "cell_type": "markdown",
      "id": "66025633",
      "metadata": {
        "id": "66025633"
      },
      "source": [
        "끝"
      ]
    }
  ],
  "metadata": {
    "kernelspec": {
      "display_name": "Python 3 (ipykernel)",
      "language": "python",
      "name": "python3"
    },
    "language_info": {
      "codemirror_mode": {
        "name": "ipython",
        "version": 3
      },
      "file_extension": ".py",
      "mimetype": "text/x-python",
      "name": "python",
      "nbconvert_exporter": "python",
      "pygments_lexer": "ipython3",
      "version": "3.10.9"
    },
    "vscode": {
      "interpreter": {
        "hash": "b41e41bff03a930185ac2cbea60ce521f7c8c2f5401ceb5c30214081f77ab4f5"
      }
    },
    "colab": {
      "provenance": [],
      "include_colab_link": true
    }
  },
  "nbformat": 4,
  "nbformat_minor": 5
}