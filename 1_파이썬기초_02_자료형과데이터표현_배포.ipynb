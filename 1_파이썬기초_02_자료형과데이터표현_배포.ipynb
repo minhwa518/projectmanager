{
  "cells": [
    {
      "cell_type": "markdown",
      "metadata": {
        "id": "view-in-github",
        "colab_type": "text"
      },
      "source": [
        "<a href=\"https://colab.research.google.com/github/minhwa518/projectmanager/blob/main/1_%ED%8C%8C%EC%9D%B4%EC%8D%AC%EA%B8%B0%EC%B4%88_02_%EC%9E%90%EB%A3%8C%ED%98%95%EA%B3%BC%EB%8D%B0%EC%9D%B4%ED%84%B0%ED%91%9C%ED%98%84_%EB%B0%B0%ED%8F%AC.ipynb\" target=\"_parent\"><img src=\"https://colab.research.google.com/assets/colab-badge.svg\" alt=\"Open In Colab\"/></a>"
      ]
    },
    {
      "cell_type": "markdown",
      "id": "8daf7079",
      "metadata": {
        "id": "8daf7079"
      },
      "source": [
        "# 파이썬 기초 다지기"
      ]
    },
    {
      "cell_type": "markdown",
      "id": "3f3da3bd",
      "metadata": {
        "id": "3f3da3bd"
      },
      "source": [
        "## 2 - 파이썬 자료형과 데이터 표현\n",
        "파이썬의 다양한 데이터 타입과 다양한 연산자, 문자열"
      ]
    },
    {
      "cell_type": "markdown",
      "id": "0c52a67e",
      "metadata": {
        "id": "0c52a67e"
      },
      "source": [
        "----------------------------------"
      ]
    },
    {
      "cell_type": "markdown",
      "id": "1ff36611",
      "metadata": {
        "id": "1ff36611"
      },
      "source": [
        "## 2-1.파이썬 자료형(Data Type)"
      ]
    },
    {
      "cell_type": "markdown",
      "id": "278fb39c",
      "metadata": {
        "id": "278fb39c"
      },
      "source": [
        "### 수학 연산하기"
      ]
    },
    {
      "cell_type": "code",
      "execution_count": null,
      "id": "7ea3146f",
      "metadata": {
        "id": "7ea3146f"
      },
      "outputs": [],
      "source": [
        "\n"
      ]
    },
    {
      "cell_type": "markdown",
      "id": "105f773c",
      "metadata": {
        "id": "105f773c"
      },
      "source": [
        "### [실습문제]\n",
        "- 문제1: 10 + 3 x 4 결과 출력\n",
        "- 문제2: 아이폰 15대를 가지고 있다. 아이폰의 가격이 130만원 일 때 총 금액은?\n",
        "- 문제3: 주어진 자연수가 홀수인지 짝수인지 판별하는 방법은?\n",
        "- 문제4: 2x2x2x5x5x5x5x3x3x3x3을 제곱형태로 나타낸 후 그 결과 출력하기"
      ]
    },
    {
      "cell_type": "code",
      "execution_count": null,
      "id": "7a853d89",
      "metadata": {
        "colab": {
          "base_uri": "https://localhost:8080/"
        },
        "id": "7a853d89",
        "outputId": "739aaad0-21ae-4237-e371-2649b4a758b8"
      },
      "outputs": [
        {
          "output_type": "stream",
          "name": "stdout",
          "text": [
            "10 + 3 x 4 = 22\n",
            "\n",
            "15 x 1300000 = 19500000\n",
            "15 x 1300000 = 19500000\n",
            "        15 x 1300000 = 19500000\n",
            "    15     x 1300000 = 19500000\n",
            "\n",
            "46 홀짝? 짝수\n",
            "\n",
            "2x2x2x5x5x5x5x3x3x3x3 = 405000\n"
          ]
        }
      ],
      "source": [
        "# 문제1: 10 + 3 x 4 결과 출력\n",
        "print('10 + 3 x 4 =', 10+3*4)\n",
        "print()  # 자동 줄바꿈기능\n",
        "\n",
        "# 문제2: 아이폰 15대를 가지고 있다. 아이폰의 가격이 130만원 일 때 총 금액은?\n",
        "iphone =15\n",
        "price = 1300000\n",
        "print('%d x %d = %d' % (iphone, price, iphone * price))\n",
        "print(f'{iphone} x {price} = {iphone * price}')\n",
        "print(f'{iphone:>10} x {price} = {iphone * price}')   # :>10 -> 오른쪽정렬로 10자리 잡아줘, ^ -> 가운데정렬\n",
        "print(f'{iphone:^10} x {price} = {iphone * price}')   # :^10 -> 가운데정렬로 10자리 잡아줘\n",
        "print()  # 자동 줄바꿈기능\n",
        "\n",
        "# 문제3: 주어진 자연수가 홀수인지 짝수인지 판별하는 방법은?\n",
        "import random\n",
        "number = random.randint(1, 100)   # 1~100까지의 임의의 정수\n",
        "if number%2==0 :       # number를 2로 나눠서 나머지가 0인 것: 짝수\n",
        "    print(number, '홀짝?', '짝수')\n",
        "else:\n",
        "    print(number, '홀짝?', '홀수')\n",
        "print()  # 자동 줄바꿈기능\n",
        "\n",
        "# 문제4: 2x2x2x5x5x5x5x3x3x3x3을 제곱형태로 나타낸 후 그 결과 출력하기\n",
        "print('2x2x2x5x5x5x5x3x3x3x3 =', 2**3 * 5**4 * 3**4)\n",
        "\n"
      ]
    },
    {
      "cell_type": "markdown",
      "id": "65487a5c",
      "metadata": {
        "id": "65487a5c"
      },
      "source": [
        "### 변수\n",
        "데이터를 저장할 수 있는 공간\n",
        "\n",
        "**변수 사용 시 주의사항**\n",
        "- 첫 글자는 영문, 혹은 _(언더바)로 시작할 것 (한글도 가능)\n",
        "- 영문자, 숫자, _(언더바)만으로 구성할 것 (공백문자 불가)\n",
        "- 대문자, 소문자 구분해서 사용할 것\n",
        "- 예약어는 피할 것"
      ]
    },
    {
      "cell_type": "code",
      "execution_count": null,
      "id": "c86ab944",
      "metadata": {
        "id": "c86ab944"
      },
      "outputs": [],
      "source": []
    },
    {
      "cell_type": "markdown",
      "id": "6b43e39d",
      "metadata": {
        "id": "6b43e39d"
      },
      "source": [
        "### 파이썬 자료형"
      ]
    },
    {
      "cell_type": "code",
      "execution_count": null,
      "id": "bdcd0ef1",
      "metadata": {
        "id": "bdcd0ef1",
        "colab": {
          "base_uri": "https://localhost:8080/"
        },
        "outputId": "7646f5e1-d568-4ee0-ed53-d1aa3da8e1b7"
      },
      "outputs": [
        {
          "output_type": "stream",
          "name": "stdout",
          "text": [
            "데이터 123의 자료형: <class 'int'>\n",
            "데이터 123의 자료형: <class 'str'>\n",
            "데이터 [123]의 자료형: <class 'list'>\n",
            "데이터 (123,)의 자료형: <class 'tuple'>\n",
            "데이터 {'key': 123}의 자료형: <class 'dict'>\n",
            "데이터 {123}의 자료형: <class 'set'>\n",
            "데이터 True의 자료형: <class 'bool'>\n"
          ]
        }
      ],
      "source": [
        "d1 = 123\n",
        "d2 = '123'\n",
        "d3 = [123]\n",
        "d4 = (123,)\n",
        "d5 = {'key':123}\n",
        "d6 = {123}\n",
        "d7 = True\n",
        "\n",
        "print(f'데이터 {d1}의 자료형: {type(d1)}')\n",
        "print(f'데이터 {d2}의 자료형: {type(d2)}')\n",
        "print(f'데이터 {d3}의 자료형: {type(d3)}')\n",
        "print(f'데이터 {d4}의 자료형: {type(d4)}')\n",
        "print(f'데이터 {d5}의 자료형: {type(d5)}')\n",
        "print(f'데이터 {d6}의 자료형: {type(d6)}')\n",
        "print(f'데이터 {d7}의 자료형: {type(d7)}')"
      ]
    },
    {
      "cell_type": "markdown",
      "id": "7cda86df",
      "metadata": {
        "id": "7cda86df"
      },
      "source": [
        "### 표준 입력과 출력\n",
        "- 키보드로부터 입력을 받는 함수( input() )을 표준 입력함수라 한다.\n",
        "- 화면에 출력하는 함수( print() )를 표준 출력함수라 한다."
      ]
    },
    {
      "cell_type": "code",
      "execution_count": null,
      "id": "00ff5c37",
      "metadata": {
        "id": "00ff5c37",
        "colab": {
          "base_uri": "https://localhost:8080/"
        },
        "outputId": "303267df-cead-4ab7-9078-1c032d32816f"
      },
      "outputs": [
        {
          "output_type": "stream",
          "name": "stdout",
          "text": [
            "숫자를 입력하세요: 666\n",
            "변수 a의 값: 666.0, <class 'float'>\n"
          ]
        }
      ],
      "source": [
        "# 표준 입력(키보드로부터 데이터를 입력 받는 것)\n",
        "# a = input('숫자를 입력하세요: ')\n",
        "# a = float(a)\n",
        "# 파이썬은 아래와 같이 감싸서 짧게 쓰도록 해본다.\n",
        "a = float( input('숫자를 입력하세요: ') )\n",
        "#a = list(int( input('숫자를 입력하세요: ') ))   -> 오류난다\n",
        "#a = list(map(int, input('숫자들을 입력하세요 (공백으로 구분): ').split()))\n",
        "\n",
        "\n",
        "# 표준 출력\n",
        "print(f'변수 a의 값: {a}, {type(a)}')\n",
        "\n"
      ]
    },
    {
      "cell_type": "markdown",
      "id": "18bc822a",
      "metadata": {
        "id": "18bc822a"
      },
      "source": [
        "#### 문자열 데이터를 숫자(정수)로 변환하기"
      ]
    },
    {
      "cell_type": "code",
      "execution_count": null,
      "id": "aaf9890f",
      "metadata": {
        "id": "aaf9890f"
      },
      "outputs": [],
      "source": [
        "# 문자열 데이터를 숫자(정수)로 변환하기\n",
        "\n"
      ]
    },
    {
      "cell_type": "markdown",
      "id": "c0436ecb",
      "metadata": {
        "id": "c0436ecb"
      },
      "source": [
        "#### 다양한 변수 출력 방법"
      ]
    },
    {
      "cell_type": "code",
      "execution_count": null,
      "id": "7d2e160d",
      "metadata": {
        "scrolled": true,
        "id": "7d2e160d"
      },
      "outputs": [],
      "source": [
        "a = input('키보드로 숫자를 입력해 주세요 ')\n",
        "\n",
        "print('변수 a에 기억된 값은 )\n",
        "\n",
        "\n",
        "\n"
      ]
    },
    {
      "cell_type": "markdown",
      "id": "7ea5c22e",
      "metadata": {
        "id": "7ea5c22e"
      },
      "source": [
        "### [실습문제] : 계산기 프로그램 만들기\n",
        "정수 2개를 키보드로 각각 입력 받아 아래와 같이 덧셈, 뺄셈, 곱셈, 몫, 나머지를\n",
        "\n",
        "\n",
        "출력하는 프로그램을 만들어 보세요.\n"
      ]
    },
    {
      "cell_type": "code",
      "execution_count": null,
      "id": "fa128ef7",
      "metadata": {
        "id": "fa128ef7",
        "colab": {
          "base_uri": "https://localhost:8080/"
        },
        "outputId": "92455e0d-812c-4452-f866-445f01741544"
      },
      "outputs": [
        {
          "output_type": "stream",
          "name": "stdout",
          "text": [
            "첫번째 숫자: 100\n",
            "두번째 숫자: 30\n",
            "--------------------------------------------------\n",
            "덧셈: 100 + 30 = 130\n",
            "뺄셈: 100 - 30 = 70\n",
            "곱셈: 100 * 30 = 3000\n",
            "나눗셈: 100 / 30 = 3.333333\n"
          ]
        }
      ],
      "source": [
        "num1 = int(input('첫번째 숫자: '))\n",
        "num2 = int(input('두번째 숫자: '))\n",
        "print('-' * 50)  # 문자열에서 * 뜻은? 반복해라~!\n",
        "print('덧셈: %d + %d = %d' % (num1, num2, num1+num2) ) # 변수 여러개는 괄호를 꼭 써줘야 오류 안난다.\n",
        "print('뺄셈: %d - %d = %d' % (num1, num2, num1-num2) )\n",
        "print('곱셈: %d * %d = %d' % (num1, num2, num1*num2) )\n",
        "print('나눗셈: %d / %d = %f' % (num1, num2, num1/num2) ) # 나눗셈 하면 소수점 나올 수 있으니까 실수형으로!!\n",
        "\n",
        "\n",
        "\n"
      ]
    },
    {
      "cell_type": "markdown",
      "id": "ca1816b6",
      "metadata": {
        "id": "ca1816b6"
      },
      "source": [
        "- f'string' 함수를 이용해 출력하기"
      ]
    },
    {
      "cell_type": "code",
      "execution_count": null,
      "id": "8b486e15",
      "metadata": {
        "id": "8b486e15",
        "colab": {
          "base_uri": "https://localhost:8080/"
        },
        "outputId": "d981caff-6e28-4d57-e5c9-b90d9b920f79"
      },
      "outputs": [
        {
          "output_type": "stream",
          "name": "stdout",
          "text": [
            "첫번째 숫자: 100\n",
            "두번째 숫자: 30\n",
            "--------------------------------------------------\n",
            "덧셈: 100 + 30 = 130\n",
            "뺄셈: 100 - 30 = 70\n",
            "곱셈: 100 * 30 = 3000\n",
            "나눗셈: 100 / 30 = 3.33\n"
          ]
        }
      ],
      "source": [
        "num1 = int(input('첫번째 숫자: '))\n",
        "num2 = int(input('두번째 숫자: '))\n",
        "print('-' * 50)  # 문자열에서 * 뜻은? 반복해라~!\n",
        "print(f'덧셈: {num1} + {num2} = {num1+num2}' )\n",
        "print(f'뺄셈: {num1} - {num2} = {num1-num2}' )\n",
        "print(f'곱셈: {num1} * {num2} = {num1*num2}' )\n",
        "print(f'나눗셈: {num1} / {num2} = {num1/num2:.2f}' )   # 소숫점 아래 둘째자리까지 표시\n",
        "\n",
        "# f'string' 함수는 자료형 지정 안해줘도 된다."
      ]
    },
    {
      "cell_type": "markdown",
      "id": "157b41ef",
      "metadata": {
        "id": "157b41ef"
      },
      "source": [
        "### [실습문제] : 시간 계산 프로그램\n",
        "속력과 거리를 입력 받아 시간을 계산하여 출력하는 프로그램을 만드세요!\n",
        "- 시간 = 거리 / 속력"
      ]
    },
    {
      "cell_type": "code",
      "execution_count": null,
      "id": "93102e01",
      "metadata": {
        "id": "93102e01",
        "colab": {
          "base_uri": "https://localhost:8080/"
        },
        "outputId": "6de49611-fd6f-4dea-fd1d-d11c9706e972"
      },
      "outputs": [
        {
          "output_type": "stream",
          "name": "stdout",
          "text": [
            "속력를 입력해 주세요(km/h) : 700\n",
            "거리를 입력해 주세요(km) : 325\n",
            "--------------------------------------------------\n",
            "속력: 700.0 km/h\n",
            "거리: 325.0 km\n",
            "시간: 0.4642857142857143 h\n"
          ]
        }
      ],
      "source": [
        "velocity = float( input('속력를 입력해 주세요(km/h) : ') )   #  int로 하면 결과가 왜곡될 수 있다.\n",
        "distance = float( input('거리를 입력해 주세요(km) : ') )\n",
        "print('-' * 50)\n",
        "\n",
        "\n",
        "print(f'속력: {velocity} km/h')\n",
        "print(f'거리: {distance} km')\n",
        "print(f'시간: {distance / velocity} h')"
      ]
    },
    {
      "cell_type": "markdown",
      "id": "89f48168",
      "metadata": {
        "id": "89f48168"
      },
      "source": [
        "- eval()함수 사용하여 문자열을 계산할 수 있다"
      ]
    },
    {
      "cell_type": "code",
      "execution_count": null,
      "id": "39dab77c",
      "metadata": {
        "id": "39dab77c",
        "colab": {
          "base_uri": "https://localhost:8080/"
        },
        "outputId": "357af0c1-de24-42f6-becf-16505f7ddb34"
      },
      "outputs": [
        {
          "output_type": "execute_result",
          "data": {
            "text/plain": [
              "70.0"
            ]
          },
          "metadata": {},
          "execution_count": 68
        }
      ],
      "source": [
        "# eval()함수 사용\n",
        "eval('10+40*3/2')\n"
      ]
    },
    {
      "cell_type": "code",
      "source": [
        "velocity = input('속력를 입력해 주세요(km/h) : ')\n",
        "distance = input('거리를 입력해 주세요(km) : ')\n",
        "time = eval(f'{distance}/{velocity}')\n",
        "print(f'걸린 시간은 {time}h = {distance}km / {velocity}km/h')"
      ],
      "metadata": {
        "colab": {
          "base_uri": "https://localhost:8080/"
        },
        "id": "79Ndx2z6c_Ou",
        "outputId": "755aa9cf-f9bf-4950-abcf-1fef0c150b77"
      },
      "id": "79Ndx2z6c_Ou",
      "execution_count": null,
      "outputs": [
        {
          "output_type": "stream",
          "name": "stdout",
          "text": [
            "속력를 입력해 주세요(km/h) : 100\n",
            "거리를 입력해 주세요(km) : 325\n",
            "걸린 시간은 3.25h = 325km / 100km/h\n"
          ]
        }
      ]
    },
    {
      "cell_type": "markdown",
      "id": "85b8c542",
      "metadata": {
        "id": "85b8c542"
      },
      "source": [
        "### 내장 수학 함수\n",
        "- 파이썬 내장 함수 https://docs.python.org/ko/3.10/library/functions.html"
      ]
    },
    {
      "cell_type": "code",
      "execution_count": null,
      "id": "2bfba8be",
      "metadata": {
        "scrolled": true,
        "id": "2bfba8be",
        "colab": {
          "base_uri": "https://localhost:8080/"
        },
        "outputId": "bc0e1755-1c9d-4cac-b07c-625e40efd83a"
      },
      "outputs": [
        {
          "output_type": "stream",
          "name": "stdout",
          "text": [
            "원주율: 3.141592653589793\n",
            "절대값: 3.14\n",
            "반올림: -3\n",
            "올림  : -3\n",
            "내림  : -4\n",
            "제곱  : 256.0\n",
            "제곱근: 2.0\n",
            "로그  : 2.302585092994046\n"
          ]
        }
      ],
      "source": [
        "import math\n",
        "\n",
        "a = -3.14\n",
        "\n",
        "print(f'원주율: {math.pi}')\n",
        "print(f'절대값: {abs(a) }')\n",
        "print(f'반올림: {round(a) }')\n",
        "print(f'올림  : {math.ceil(a) }')\n",
        "print(f'내림  : {math.floor(a) }')\n",
        "print(f'제곱  : {math.pow(2, 8) }')\n",
        "print(f'제곱근: {math.sqrt(4) }')\n",
        "print(f'로그  : {math.log(10) }')"
      ]
    },
    {
      "cell_type": "markdown",
      "id": "c8147e87",
      "metadata": {
        "id": "c8147e87"
      },
      "source": [
        "### [실습문제]: 수학 함수 사용하여 계산하기\n",
        "- 문제1: 반지름이 4인 원의 넓이 출력\n",
        "- 문제2: 3.14 곱하가 2 나누기 7의 값을 반올림하여 계산 결과 출력\n",
        "- 문제3: 원주율을 3.14로 만들어서 반지름이 4인 원의 둘레의 길이 출력"
      ]
    },
    {
      "cell_type": "code",
      "execution_count": null,
      "id": "45ed86c9",
      "metadata": {
        "id": "45ed86c9",
        "colab": {
          "base_uri": "https://localhost:8080/"
        },
        "outputId": "5b6b036c-786e-4c1c-ce91-b6472ec5dc49"
      },
      "outputs": [
        {
          "output_type": "stream",
          "name": "stdout",
          "text": [
            "원의 넓이: 50.26548245743669\n",
            "반올림: 1\n",
            "원의 둘레: 25.12\n"
          ]
        }
      ],
      "source": [
        "r = 4\n",
        "\n",
        "# 문제1: 반지름이 4인 원의 넓이 출력\n",
        "print(f'원의 넓이: {math.pow(r, 2) * math.pi}')\n",
        "\n",
        "# 문제2: 3.14 곱하기 2 나누기 7의 값을 반올림하여 계산 결과 출력\n",
        "print(f'반올림: {round(3.14 * 2 / 7)}')\n",
        "\n",
        "# 문제3: 원주율을 3.14로 만들어서 반지름이 4인 원의 둘레의 길이 출력\n",
        "print(f'원의 둘레: {r*2*round(math.pi, 2)}')"
      ]
    },
    {
      "cell_type": "code",
      "source": [
        "r = 4\n",
        "\n",
        "# 문제1: 반지름이 4인 원의 넓이 출력\n",
        "print(f'반지름이 4인 원의 넓이: {math.pi * 4**2}')\n",
        "\n",
        "# 문제2: 3.14 곱하기 2 나누기 7의 값을 반올림하여 계산 결과 출력\n",
        "print(f'3.14 곱하기 2 나누기 7의 값을 반올림: {round(3.14 * 2 / 7)}')\n",
        "\n",
        "# 문제3: 원주율을 3.14로 만들어서 반지름이 4인 원의 둘레의 길이 출력\n",
        "print(f'원의 둘레: {r*2*round(math.pi, 2)}')"
      ],
      "metadata": {
        "colab": {
          "base_uri": "https://localhost:8080/"
        },
        "id": "-5KTZuTNgGOL",
        "outputId": "430af63b-496c-4298-f2e2-79011ac586d5"
      },
      "id": "-5KTZuTNgGOL",
      "execution_count": null,
      "outputs": [
        {
          "output_type": "stream",
          "name": "stdout",
          "text": [
            "반지름이 4인 원의 넓이: 50.26548245743669\n",
            "3.14 곱하기 2 나누기 7의 값을 반올림: 1\n",
            "원의 둘레: 25.12\n"
          ]
        }
      ]
    },
    {
      "cell_type": "code",
      "source": [
        "a = input('정수를 입력하세요: ')\n",
        "\n",
        "print(f'{a} + {a*2} + {a*3} = {int(a) + int(a*2) + int(a*3)}')"
      ],
      "metadata": {
        "colab": {
          "base_uri": "https://localhost:8080/"
        },
        "id": "h_W0YXjum9PA",
        "outputId": "d8efe43a-f499-419d-8a7c-190a00c58f9c"
      },
      "id": "h_W0YXjum9PA",
      "execution_count": null,
      "outputs": [
        {
          "output_type": "stream",
          "name": "stdout",
          "text": [
            "정수를 입력하세요: 7\n",
            "7 + 77 + 777 = 861\n"
          ]
        }
      ]
    },
    {
      "cell_type": "code",
      "source": [
        "a = input('정수를 입력하세요: ')\n",
        "result = f\"{a}+{a*2}+{a*3}\"\n",
        "print(f'{result} = {eval(result)}')"
      ],
      "metadata": {
        "colab": {
          "base_uri": "https://localhost:8080/"
        },
        "id": "rC1D1O05tcVl",
        "outputId": "7248a122-fc9f-4008-df61-58c2d84a14a3"
      },
      "id": "rC1D1O05tcVl",
      "execution_count": null,
      "outputs": [
        {
          "output_type": "stream",
          "name": "stdout",
          "text": [
            "정수를 입력하세요: 7\n",
            "7+77+777 = 861\n"
          ]
        }
      ]
    },
    {
      "cell_type": "code",
      "source": [],
      "metadata": {
        "id": "JIFvjoV5tsEN"
      },
      "id": "JIFvjoV5tsEN",
      "execution_count": null,
      "outputs": []
    },
    {
      "cell_type": "markdown",
      "id": "32f4b4ce",
      "metadata": {
        "id": "32f4b4ce"
      },
      "source": [
        "---------------------------"
      ]
    },
    {
      "cell_type": "markdown",
      "id": "12be6789",
      "metadata": {
        "id": "12be6789"
      },
      "source": [
        "## 2-2.문자와 문자열"
      ]
    },
    {
      "cell_type": "markdown",
      "id": "90255097",
      "metadata": {
        "id": "90255097"
      },
      "source": [
        "#### 문자와 문자열 변환"
      ]
    },
    {
      "cell_type": "code",
      "execution_count": 1,
      "id": "a52f17d8",
      "metadata": {
        "id": "a52f17d8",
        "colab": {
          "base_uri": "https://localhost:8080/"
        },
        "outputId": "9f72edbe-47eb-4ea8-c002-14a23d7ba5e1"
      },
      "outputs": [
        {
          "output_type": "stream",
          "name": "stdout",
          "text": [
            "65\n",
            "97\n",
            "33\n",
            "44032\n"
          ]
        }
      ],
      "source": [
        "# 문자 --> 숫자(정수) 로 변환 : ord() 함수 사용\n",
        "print( ord('A') )\n",
        "print( ord('a') )\n",
        "print( ord('!') )\n",
        "print( ord('가') )"
      ]
    },
    {
      "cell_type": "code",
      "execution_count": 2,
      "id": "88bbb733",
      "metadata": {
        "id": "88bbb733",
        "colab": {
          "base_uri": "https://localhost:8080/"
        },
        "outputId": "cd40a626-2d4e-49be-d275-abb1d5574b55"
      },
      "outputs": [
        {
          "output_type": "stream",
          "name": "stdout",
          "text": [
            "A\n",
            "B\n",
            "a\n",
            "b\n",
            "가\n",
            "각\n"
          ]
        }
      ],
      "source": [
        "# 숫자(정수) --> 문자 로 변환 : chr() 함수 사용\n",
        "print( chr(65) )\n",
        "print( chr(66) )\n",
        "print( chr(97) )\n",
        "print( chr(98) )\n",
        "print( chr(44032) )\n",
        "print( chr(44033) )"
      ]
    },
    {
      "cell_type": "code",
      "execution_count": 6,
      "id": "1cbfb609",
      "metadata": {
        "id": "1cbfb609",
        "colab": {
          "base_uri": "https://localhost:8080/"
        },
        "outputId": "a31944ba-0482-497a-f457-b52fd01dc8e3"
      },
      "outputs": [
        {
          "output_type": "stream",
          "name": "stdout",
          "text": [
            "0b1101001100001100, 0b1100011101110100, 0b1100001101101100, "
          ]
        }
      ],
      "source": [
        "# 문자 --> 숫자 --> 이진수 로 변환\n",
        "for c in '파이썬':\n",
        "    숫자변환 = ord(c)              # unicode\n",
        "    이진수변환 = bin(숫자변환)     # 16진수 binarycode\n",
        "    print( 이진수변환, end = ', ')  # 한 줄로 표현하기"
      ]
    },
    {
      "cell_type": "code",
      "source": [
        "# 문자 --> 숫자 --> 이진수 로 변환\n",
        "for c in '파이썬':\n",
        "    숫자변환 = ord(c)              # unicode\n",
        "    이진수변환 = bin(숫자변환)     # 16진수 binarycode\n",
        "    print( 이진수변환 )"
      ],
      "metadata": {
        "colab": {
          "base_uri": "https://localhost:8080/"
        },
        "id": "F43buV_eBAlO",
        "outputId": "4bae12c2-e394-4b5e-96b3-e24190704026"
      },
      "id": "F43buV_eBAlO",
      "execution_count": 7,
      "outputs": [
        {
          "output_type": "stream",
          "name": "stdout",
          "text": [
            "0b1101001100001100\n",
            "0b1100011101110100\n",
            "0b1100001101101100\n"
          ]
        }
      ]
    },
    {
      "cell_type": "code",
      "execution_count": 8,
      "id": "d9577a3f",
      "metadata": {
        "id": "d9577a3f",
        "colab": {
          "base_uri": "https://localhost:8080/"
        },
        "outputId": "bf709325-250b-4aac-9006-fa31e7b1859b"
      },
      "outputs": [
        {
          "output_type": "stream",
          "name": "stdout",
          "text": [
            "1101001100001100 1100011101110100 1100001101101100 "
          ]
        }
      ],
      "source": [
        "for c in '파이썬':\n",
        "    # 이진수에서 앞'0b'를 없애기 위해 format() 함수 사용할 수 있다.\n",
        "    print( format(ord(c), 'b'), end = ' ')  # 한 줄로 표현하기"
      ]
    },
    {
      "cell_type": "markdown",
      "id": "c87a0c03",
      "metadata": {
        "id": "c87a0c03"
      },
      "source": [
        "### 문자열 따옴표로 지정"
      ]
    },
    {
      "cell_type": "markdown",
      "id": "e343167b",
      "metadata": {
        "id": "e343167b"
      },
      "source": [
        "#### 큰 따옴표  or 작은 따옴표로 지정한다"
      ]
    },
    {
      "cell_type": "code",
      "execution_count": 11,
      "id": "fae54804",
      "metadata": {
        "id": "fae54804",
        "colab": {
          "base_uri": "https://localhost:8080/"
        },
        "outputId": "d91d5ccb-d5a7-458d-d0c5-036c2c0d1429"
      },
      "outputs": [
        {
          "output_type": "stream",
          "name": "stdout",
          "text": [
            "Hello\n",
            "Hello\n",
            "Hello 'world\n",
            "Hello \"world\n",
            " \"Yes, I can!\" \n",
            " \"Yes, I can!\" \n"
          ]
        }
      ],
      "source": [
        "print('Hello')\n",
        "print(\"Hello\")\n",
        "print(\"Hello 'world\")\n",
        "print('Hello \"world')\n",
        "print(' \"Yes, I can!\" ')\n",
        "\n",
        "print(\" \\\"Yes, I can!\\\" \")  # 역슬래시를 부호 왼쪽에 쓰면 같은거 쓸수 있다."
      ]
    },
    {
      "cell_type": "markdown",
      "id": "66f9d31e",
      "metadata": {
        "id": "66f9d31e"
      },
      "source": [
        "#### 따옴표 세 개 사용 : 여러 줄로 표현할 때"
      ]
    },
    {
      "cell_type": "code",
      "execution_count": 12,
      "id": "48fe4ca0",
      "metadata": {
        "id": "48fe4ca0",
        "colab": {
          "base_uri": "https://localhost:8080/"
        },
        "outputId": "e1f9a9c6-3124-4a1d-e74d-dea9842ed295"
      },
      "outputs": [
        {
          "output_type": "stream",
          "name": "stdout",
          "text": [
            "박씨가 소리질렀다.\n",
            "도둑이야!\n"
          ]
        }
      ],
      "source": [
        "a = '''박씨가 소리질렀다.\n",
        "도둑이야!'''\n",
        "print(a)"
      ]
    },
    {
      "cell_type": "code",
      "execution_count": 15,
      "id": "b32c2a51",
      "metadata": {
        "scrolled": true,
        "id": "b32c2a51",
        "colab": {
          "base_uri": "https://localhost:8080/"
        },
        "outputId": "5e517620-f44a-4d83-c370-139d87aa2c2e"
      },
      "outputs": [
        {
          "output_type": "stream",
          "name": "stdout",
          "text": [
            "OOO카페 메뉴판\n",
            "- 아메리카노:  3000원\n",
            "- 카페라테:    4000원\n",
            "- 카페모카:    5000원\n"
          ]
        }
      ],
      "source": [
        "a = '''OOO카페 메뉴판\n",
        "- 아메리카노:  3000원\n",
        "- 카페라테:    4000원\n",
        "- 카페모카:    5000원'''\n",
        "print(a)"
      ]
    },
    {
      "cell_type": "markdown",
      "id": "fb8a7c56",
      "metadata": {
        "id": "fb8a7c56"
      },
      "source": [
        "### [실습] 주문받아 출력하기"
      ]
    },
    {
      "cell_type": "code",
      "execution_count": 16,
      "id": "3a4d57f5",
      "metadata": {
        "id": "3a4d57f5",
        "colab": {
          "base_uri": "https://localhost:8080/"
        },
        "outputId": "e255fe73-ef76-4425-d029-1b6461263451"
      },
      "outputs": [
        {
          "output_type": "stream",
          "name": "stdout",
          "text": [
            "카페주문 프로그램입니다. \n",
            "--------------------------------------------------\n",
            "OOO카페 메뉴판\n",
            "- 아메리카노:  3000원\n",
            "- 카페라테:    4000원\n",
            "- 카페모카:    5000원\n",
            "--------------------------------------------------\n",
            "주문하실 음료를 입력하세요: 카페라떼\n",
            "주문하신 음료 카페라떼가 나왔습니다. 맛있게 드세요~!\n"
          ]
        }
      ],
      "source": [
        "# 주문받아 출력하기\n",
        "menu = a\n",
        "\n",
        "print('카페주문 프로그램입니다. ')\n",
        "print('-' * 50)\n",
        "print(menu)\n",
        "print('-' * 50)\n",
        "coffee = input('주문하실 음료를 입력하세요: ')\n",
        "print(f'주문하신 음료 {coffee}가 나왔습니다. 맛있게 드세요~!')\n"
      ]
    },
    {
      "cell_type": "markdown",
      "id": "38c40628",
      "metadata": {
        "id": "38c40628"
      },
      "source": [
        "### 문자열 연산\n",
        "- (+): 문자열 연결하기"
      ]
    },
    {
      "cell_type": "code",
      "execution_count": 22,
      "id": "6af90aaf",
      "metadata": {
        "id": "6af90aaf",
        "colab": {
          "base_uri": "https://localhost:8080/"
        },
        "outputId": "54c9d01a-0c78-483d-adc4-0e877329d98e"
      },
      "outputs": [
        {
          "output_type": "stream",
          "name": "stdout",
          "text": [
            "안녕하세요임민화님\n",
            "안녕하세요 임민화님\n",
            "77\n"
          ]
        }
      ],
      "source": [
        "print('안녕하세요'+'임민화님')   # 공백x\n",
        "print('안녕하세요','임민화님')   # 쉼표쓰면 공백하나 생긴다.\n",
        "print('7' + '7')"
      ]
    },
    {
      "cell_type": "markdown",
      "id": "a27ee4d1",
      "metadata": {
        "id": "a27ee4d1"
      },
      "source": [
        "- (*) : 반복의 의미"
      ]
    },
    {
      "cell_type": "code",
      "execution_count": 25,
      "id": "229965c2",
      "metadata": {
        "id": "229965c2",
        "colab": {
          "base_uri": "https://localhost:8080/"
        },
        "outputId": "7ed1ba2e-0c48-4b24-a618-ad34562c7740"
      },
      "outputs": [
        {
          "output_type": "stream",
          "name": "stdout",
          "text": [
            "가나다! 가나다! 가나다! 가나다! 가나다! \n"
          ]
        }
      ],
      "source": [
        "print('가나다! ' * 5 )\n"
      ]
    },
    {
      "cell_type": "markdown",
      "id": "2d2a3e0e",
      "metadata": {
        "id": "2d2a3e0e"
      },
      "source": [
        "### [실습문제] 문자열 출력하기\n",
        "- 문제1: 화면에   Mary’s cosmetics   출력\n",
        "- 문제2: 화면에  박씨가 소리질렀다. “도둑이야!”.  출력\n",
        "- 문제3: 다음 코드 실행시켜서 \\t와 \\n의 역할 확인하기 <br>\n",
        "print(\"안녕하세요.\\n오늘\\t날씨가\\t\\t좋습니다.\")    "
      ]
    },
    {
      "cell_type": "code",
      "execution_count": 28,
      "id": "36f87e66",
      "metadata": {
        "id": "36f87e66",
        "colab": {
          "base_uri": "https://localhost:8080/"
        },
        "outputId": "7fab4a7b-70ef-4780-a7a7-6b65fa27e28e"
      },
      "outputs": [
        {
          "output_type": "stream",
          "name": "stdout",
          "text": [
            "Mary's cosmetics\n",
            "화면에 박씨가 소리질렀다.\"도둑이야!\".\n",
            "안녕하세요.\n",
            "오늘\t날씨가\t\t좋습니다.\n"
          ]
        }
      ],
      "source": [
        "print(\"Mary's cosmetics\")\n",
        "print(\"화면에 박씨가 소리질렀다.\\\"도둑이야!\\\".\")\n",
        "print(\"안녕하세요.\\n오늘\\t날씨가\\t\\t좋습니다.\")\n"
      ]
    },
    {
      "cell_type": "markdown",
      "id": "13245f26",
      "metadata": {
        "id": "13245f26"
      },
      "source": [
        "-------------------"
      ]
    },
    {
      "cell_type": "markdown",
      "id": "020d1cc5",
      "metadata": {
        "id": "020d1cc5"
      },
      "source": [
        "## 2-3.문자열 인덱싱과 슬라이싱"
      ]
    },
    {
      "cell_type": "code",
      "source": [
        "우왕 = '사랑해요, 파이썬!'\n",
        "print( 우왕[0:3:2] )\n",
        "print( 우왕[:] )"
      ],
      "metadata": {
        "colab": {
          "base_uri": "https://localhost:8080/"
        },
        "id": "FZmtEMC9Hrsb",
        "outputId": "cdbb91c3-1472-4621-f297-63f46a8d0501"
      },
      "id": "FZmtEMC9Hrsb",
      "execution_count": 32,
      "outputs": [
        {
          "output_type": "stream",
          "name": "stdout",
          "text": [
            "사해\n",
            "사랑해요, 파이썬!\n"
          ]
        }
      ]
    },
    {
      "cell_type": "code",
      "execution_count": 33,
      "id": "9c875a9b",
      "metadata": {
        "id": "9c875a9b",
        "colab": {
          "base_uri": "https://localhost:8080/"
        },
        "outputId": "c7611c0d-b566-4dfc-8a58-b74c31ab16eb"
      },
      "outputs": [
        {
          "output_type": "stream",
          "name": "stdout",
          "text": [
            "\n"
          ]
        }
      ],
      "source": [
        "a = '우리는 민족중흥의 역사적 사명을 띠고 이 땅에 태어났다.'\n",
        "print( )"
      ]
    },
    {
      "cell_type": "code",
      "execution_count": 34,
      "id": "e50df3b3",
      "metadata": {
        "id": "e50df3b3",
        "colab": {
          "base_uri": "https://localhost:8080/"
        },
        "outputId": "6d0301c7-9909-43a8-83f0-54fd3d111320"
      },
      "outputs": [
        {
          "output_type": "stream",
          "name": "stdout",
          "text": [
            "\n"
          ]
        }
      ],
      "source": [
        "fruits = 'orange'\n",
        "print( )\n"
      ]
    },
    {
      "cell_type": "code",
      "source": [
        "기사 = \"\"\"오늘 남부지방에는 많은 비가 내리겠고, 중부지방에는 소나기가 오겠습니다.\n",
        "\n",
        "이렇게 비나 소나기가 내려도 무더위의 기세는 크게 꺾이지 않겠습니다.\n",
        "\n",
        "오늘부터 내일 오전까지 남부지방은 저기압의 영향을 받겠는데요.\n",
        "\n",
        "예상 강수량은 경상도 해안에 30에서 80, 많은 곳은 100밀리미터가 넘겠고, 그 밖의 남부지방과 제주도에 10에서 60밀리미터 정도입니다.\n",
        "\n",
        "또 오늘 오후에는 대기가 불안정해 수도권과 강원 내륙 산지, 충청도에 5에서 30밀리미터의 소나기가 오는 곳이 있겠습니다.\n",
        "\n",
        "주말인 내일과 모레도 내륙 지역을 중심으로 소나기가 오는 곳이 많겠습니다.\n",
        "\n",
        "무더위는 다음 주 화요일과 수요일 사이 전국에 비가 내리면서 잠시 주춤하겠습니다.\n",
        "\"\"\"\n",
        "print( 기사.count('오늘') )  # '기사' 라는 변수에 있는 '오늘' 이라는 단어의 갯수\n",
        "\n",
        "print( 기사.find('제주도') ) # '제주도' 단어의 위치(인덱스)\n",
        "\n",
        "print( 기사.find('꽁') )   # 찾는 단어 없으면 -1 출력\n",
        "print( 기사.index('꽁') )  # 찾는 단어 없으면 오류남!!!"
      ],
      "metadata": {
        "colab": {
          "base_uri": "https://localhost:8080/",
          "height": 276
        },
        "id": "GcC8h8JeJCWe",
        "outputId": "40acfad4-7a8b-466b-9f6e-0d97d90ff653"
      },
      "id": "GcC8h8JeJCWe",
      "execution_count": 41,
      "outputs": [
        {
          "output_type": "stream",
          "name": "stdout",
          "text": [
            "3\n",
            "174\n",
            "-1\n"
          ]
        },
        {
          "output_type": "error",
          "ename": "ValueError",
          "evalue": "ignored",
          "traceback": [
            "\u001b[0;31m---------------------------------------------------------------------------\u001b[0m",
            "\u001b[0;31mValueError\u001b[0m                                Traceback (most recent call last)",
            "\u001b[0;32m<ipython-input-41-38affc48ae4f>\u001b[0m in \u001b[0;36m<cell line: 20>\u001b[0;34m()\u001b[0m\n\u001b[1;32m     18\u001b[0m \u001b[0;34m\u001b[0m\u001b[0m\n\u001b[1;32m     19\u001b[0m \u001b[0mprint\u001b[0m\u001b[0;34m(\u001b[0m \u001b[0m기사\u001b[0m\u001b[0;34m.\u001b[0m\u001b[0mfind\u001b[0m\u001b[0;34m(\u001b[0m\u001b[0;34m'꽁'\u001b[0m\u001b[0;34m)\u001b[0m \u001b[0;34m)\u001b[0m\u001b[0;34m\u001b[0m\u001b[0;34m\u001b[0m\u001b[0m\n\u001b[0;32m---> 20\u001b[0;31m \u001b[0mprint\u001b[0m\u001b[0;34m(\u001b[0m \u001b[0m기사\u001b[0m\u001b[0;34m.\u001b[0m\u001b[0mindex\u001b[0m\u001b[0;34m(\u001b[0m\u001b[0;34m'꽁'\u001b[0m\u001b[0;34m)\u001b[0m \u001b[0;34m)\u001b[0m\u001b[0;34m\u001b[0m\u001b[0;34m\u001b[0m\u001b[0m\n\u001b[0m",
            "\u001b[0;31mValueError\u001b[0m: substring not found"
          ]
        }
      ]
    },
    {
      "cell_type": "code",
      "source": [
        "s = input('문자열을 입력하세요: ')\n",
        "\n",
        "print(s[::-1])  # 문자열 역순으로 배치~!!!"
      ],
      "metadata": {
        "colab": {
          "base_uri": "https://localhost:8080/"
        },
        "id": "do5SN1O4JCsJ",
        "outputId": "1da83ae5-ede9-4913-fd1a-241c85437da6"
      },
      "id": "do5SN1O4JCsJ",
      "execution_count": 42,
      "outputs": [
        {
          "output_type": "stream",
          "name": "stdout",
          "text": [
            "문자열을 입력하세요: 사랑해요 파이썬!\n",
            "!썬이파 요해랑사\n"
          ]
        }
      ]
    },
    {
      "cell_type": "code",
      "source": [
        "# split() 함수로 파일명과 확장자 분리하기\n",
        "\n",
        "fname = input('파일을 입력하세요: ')\n",
        "print(f'입력한 파일: {fname}')\n",
        "\n",
        "a = fname.split('.') # .을 기준으로 분리하기~!\n",
        "print(f'파일명: {a[0]}, 확장자: {a[1]}')"
      ],
      "metadata": {
        "colab": {
          "base_uri": "https://localhost:8080/"
        },
        "id": "SYvmTUJgJDUx",
        "outputId": "073e95df-b79c-4a49-dcbe-cd177b6b6d50"
      },
      "id": "SYvmTUJgJDUx",
      "execution_count": 60,
      "outputs": [
        {
          "output_type": "stream",
          "name": "stdout",
          "text": [
            "파일을 입력하세요: test.ipynb\n",
            "입력한 파일: test.ipynb\n",
            "파일명: test, 확장자: ipynb\n"
          ]
        }
      ]
    },
    {
      "cell_type": "markdown",
      "id": "1aecf2d0",
      "metadata": {
        "id": "1aecf2d0"
      },
      "source": [
        "---------------------------"
      ]
    },
    {
      "cell_type": "markdown",
      "id": "0f48d7cf",
      "metadata": {
        "id": "0f48d7cf"
      },
      "source": [
        "## 2-4.변수 활용"
      ]
    },
    {
      "cell_type": "markdown",
      "id": "d26c5d6e",
      "metadata": {
        "id": "d26c5d6e"
      },
      "source": [
        "### [실습문제]: 지불할 음식 총 가격 계산하기\n",
        "- 음식가격:  4,450 원\n",
        "- 세금: 6.75%\n",
        "- 팁: 15%\n",
        "1. meal 변수를 선언하고 값을 4450으로 지정하세요.\n",
        "2. tax 변수를 생성하고 값으로 6.75%를 소수점 형태로 지정하세요.\n",
        "3. tip 변수를 생성하고 값으로 15%를 소수점 형태로 지정하세요.\n",
        "4. meal의 변수값에 세금을 곱해 meal 변수에 지정하세요.\n",
        "5. 음식값에 tip을 더해 total 변수에 지정하세요.\n",
        "6. total 변수 값을 출력하세요."
      ]
    },
    {
      "cell_type": "code",
      "execution_count": 66,
      "id": "933828b3",
      "metadata": {
        "id": "933828b3",
        "colab": {
          "base_uri": "https://localhost:8080/"
        },
        "outputId": "5b83ceff-42fb-4425-e8fc-17f6aec12b06"
      },
      "outputs": [
        {
          "output_type": "stream",
          "name": "stdout",
          "text": [
            "내가 지불해야 할 총 금액: 5417.874999999999\n"
          ]
        }
      ],
      "source": [
        "meal = 4450    # 1.음식가격\n",
        "tax = 0.0675   # 2.세금\n",
        "tip = 0.15     # 3.팁\n",
        "meal2 = meal*(1+tax)\n",
        "total = meal2 + meal*tip\n",
        "print(f'내가 지불해야 할 총 금액: {total}')\n"
      ]
    },
    {
      "cell_type": "code",
      "source": [
        "meal = 4450    # 1.음식가격\n",
        "tax = 0.0675   # 2.세금\n",
        "tip = 0.15     # 3.팁\n",
        "print(f'순수세금: {meal * tax}')\n",
        "meal = meal*(1+tax)"
      ],
      "metadata": {
        "colab": {
          "base_uri": "https://localhost:8080/"
        },
        "id": "fMRLIuoXTpMy",
        "outputId": "fd7ad21a-ce10-47e9-f9f4-ceb67312766a"
      },
      "id": "fMRLIuoXTpMy",
      "execution_count": 69,
      "outputs": [
        {
          "output_type": "stream",
          "name": "stdout",
          "text": [
            "순수세금: 300.375\n"
          ]
        }
      ]
    },
    {
      "cell_type": "markdown",
      "id": "a4fa74c9",
      "metadata": {
        "id": "a4fa74c9"
      },
      "source": [
        "### [실습문제]: 섭씨온도를 화씨온도로 변환하기\n",
        "- 섭씨 온도 (Celsius): 1 atm에서의 물의 어는점을 0도, 끓는점을 100도로 정한 온도 체계. (°C)\n",
        "\n",
        "\n",
        "- 화씨 온도 (Fahrenheit): 물이 어는 온도는 32도, 물이 끓는 온도는 212도. 180등분. (°F)\n",
        "- 섭씨온도(℃) = (5 / 9) × (℉ - 32)  # Celsius\n",
        "- 화씨온도(℉) = (9 / 5) × ℃ + 32    # Fahrenheit"
      ]
    },
    {
      "cell_type": "code",
      "execution_count": 73,
      "id": "d65f3301",
      "metadata": {
        "scrolled": true,
        "id": "d65f3301",
        "colab": {
          "base_uri": "https://localhost:8080/"
        },
        "outputId": "6d139359-68c9-454a-b35e-ea791b6d41bb"
      },
      "outputs": [
        {
          "output_type": "stream",
          "name": "stdout",
          "text": [
            "온도를 입력해주세요(섭씨): 32.5\n",
            "섭씨 온도 32.5℃를 화씨 온도로 변환하면 90.5℉ 입니다.\n"
          ]
        }
      ],
      "source": [
        "# c_temp = input()   #키보드로부터 입력을 받는 함수: input()\n",
        "# c_temp = int(c_temp)  # 정수로 변환: int()\n",
        "# print(c_temp, type(c_temp) )\n",
        "\n",
        "c_temp = float(input('온도를 입력해주세요(섭씨): '))\n",
        "f_temp = (9 / 5) * c_temp + 32\n",
        "print(f'섭씨 온도 {c_temp}℃를 화씨 온도로 변환하면 {f_temp}℉ 입니다.')"
      ]
    },
    {
      "cell_type": "markdown",
      "id": "a57cbf87",
      "metadata": {
        "id": "a57cbf87"
      },
      "source": [
        "-------"
      ]
    },
    {
      "cell_type": "markdown",
      "id": "f0265f78",
      "metadata": {
        "id": "f0265f78"
      },
      "source": [
        "## 2-5.연산자"
      ]
    },
    {
      "cell_type": "markdown",
      "id": "bff8051d",
      "metadata": {
        "id": "bff8051d"
      },
      "source": [
        "### [실습문제]: 동전 교환 프로그램 만들기"
      ]
    },
    {
      "cell_type": "code",
      "source": [
        "print(input(\"동전으로 교환할 금액을 입력하세요: \"),'원')"
      ],
      "metadata": {
        "colab": {
          "base_uri": "https://localhost:8080/"
        },
        "id": "W69znM_ga0n9",
        "outputId": "1a0737e4-0d40-4326-b4c8-4d3f28b25eb8"
      },
      "id": "W69znM_ga0n9",
      "execution_count": 89,
      "outputs": [
        {
          "output_type": "stream",
          "name": "stdout",
          "text": [
            "동전으로 교환할 금액을 입력하세요: 95\n",
            "95 원\n"
          ]
        }
      ]
    },
    {
      "cell_type": "code",
      "execution_count": 80,
      "id": "105db988",
      "metadata": {
        "id": "105db988",
        "colab": {
          "base_uri": "https://localhost:8080/",
          "height": 386
        },
        "outputId": "7a625267-dc08-484b-fb5e-7684e6cab204"
      },
      "outputs": [
        {
          "output_type": "stream",
          "name": "stdout",
          "text": [
            "---동전교환기 프로그램을 작동합니다.---\n",
            "금액을 입력하세요: 4890\n",
            "동전으로 교환하겠습니다.---------\n",
            "500원짜리 ==> 9개\n",
            "100원짜리 ==> 3개\n",
            "50원짜리 ==> 1개\n",
            "10원짜리 ==> 4개\n"
          ]
        },
        {
          "output_type": "error",
          "ename": "ZeroDivisionError",
          "evalue": "ignored",
          "traceback": [
            "\u001b[0;31m---------------------------------------------------------------------------\u001b[0m",
            "\u001b[0;31mZeroDivisionError\u001b[0m                         Traceback (most recent call last)",
            "\u001b[0;32m<ipython-input-80-cc4ae291a73c>\u001b[0m in \u001b[0;36m<cell line: 16>\u001b[0;34m()\u001b[0m\n\u001b[1;32m     14\u001b[0m \u001b[0;34m\u001b[0m\u001b[0m\n\u001b[1;32m     15\u001b[0m \u001b[0mprint\u001b[0m\u001b[0;34m(\u001b[0m\u001b[0;34mf\"10원짜리 ==> {money//10}개\"\u001b[0m\u001b[0;34m)\u001b[0m\u001b[0;34m\u001b[0m\u001b[0;34m\u001b[0m\u001b[0m\n\u001b[0;32m---> 16\u001b[0;31m \u001b[0mmoney\u001b[0m \u001b[0;34m%=\u001b[0m \u001b[0;36m0\u001b[0m\u001b[0;34m\u001b[0m\u001b[0;34m\u001b[0m\u001b[0m\n\u001b[0m\u001b[1;32m     17\u001b[0m \u001b[0;34m\u001b[0m\u001b[0m\n\u001b[1;32m     18\u001b[0m \u001b[0mprint\u001b[0m\u001b[0;34m(\u001b[0m\u001b[0;34mf\"잔돈 ==> {money }원\"\u001b[0m\u001b[0;34m)\u001b[0m\u001b[0;34m\u001b[0m\u001b[0;34m\u001b[0m\u001b[0m\n",
            "\u001b[0;31mZeroDivisionError\u001b[0m: integer division or modulo by zero"
          ]
        }
      ],
      "source": [
        "# 키보드로부터 금액 입력 받기\n",
        "print('---동전교환기 프로그램을 작동합니다.---')\n",
        "money = int( input('금액을 입력하세요: '))\n",
        "print('동전으로 교환하겠습니다.---------')\n",
        "\n",
        "print(f\"500원짜리 ==> {money//500}개\")\n",
        "money %= 500\n",
        "\n",
        "print(f\"100원짜리 ==> {money//100}개\")\n",
        "money %= 100\n",
        "\n",
        "print(f\"50원짜리 ==> {money//50}개\")\n",
        "money %= 50\n",
        "\n",
        "print(f\"10원짜리 ==> {money//10}개\")\n",
        "money %= 0\n",
        "\n",
        "print(f\"잔돈 ==> {money }원\")\n",
        "\n",
        "\n"
      ]
    },
    {
      "cell_type": "code",
      "source": [
        "money = int(input(\"동전으로 교환할 금액을 입력하세요: \"))\n",
        "print('-'*30)\n",
        "\n",
        "print(f\"500원짜리 ==> {money//500}개\")\n",
        "money = money%500\n",
        "\n",
        "print(f\"100원짜리 ==> {money//100}개\")\n",
        "money = money%100\n",
        "\n",
        "print(f\"50원짜리 ==> {money//50}개\")\n",
        "money = money%50\n",
        "\n",
        "print(f\"10원짜리 ==> {money//10}개\")\n",
        "money = money%10\n",
        "\n",
        "print(f\"잔돈 ==> {money }원\")\n"
      ],
      "metadata": {
        "colab": {
          "base_uri": "https://localhost:8080/"
        },
        "id": "IiebigBxX_cX",
        "outputId": "f8d31bea-2d4f-4166-91f7-337e7361c4d5"
      },
      "id": "IiebigBxX_cX",
      "execution_count": 84,
      "outputs": [
        {
          "output_type": "stream",
          "name": "stdout",
          "text": [
            "동전으로 교환할 금액을 입력하세요: 555\n",
            "------------------------------\n",
            "500원짜리 ==> 1개\n",
            "100원짜리 ==> 0개\n",
            "50원짜리 ==> 1개\n",
            "10원짜리 ==> 0개\n",
            "잔돈 ==> 5원\n"
          ]
        }
      ]
    },
    {
      "cell_type": "markdown",
      "id": "f359d4a1",
      "metadata": {
        "id": "f359d4a1"
      },
      "source": [
        "-----------------------------------------"
      ]
    },
    {
      "cell_type": "markdown",
      "id": "d8c018ca",
      "metadata": {
        "id": "d8c018ca"
      },
      "source": [
        "## 2-6.리스트(List)\n",
        "- 리스트는 여러 개의 데이터 값을 하나의 변수에 담을 수 있는 데이터 구조\n",
        "- 리스트는 순서(인덱스)가 있고 데이터를 수정, 삭제, 추가 가능하다.\n",
        "- 대괄호로 표현되고 내부 원소는 ,(쉼표)로 구분됨"
      ]
    },
    {
      "cell_type": "markdown",
      "id": "693f2484",
      "metadata": {
        "id": "693f2484"
      },
      "source": [
        "### 리스트 생성"
      ]
    },
    {
      "cell_type": "code",
      "execution_count": 90,
      "id": "a1b79606",
      "metadata": {
        "id": "a1b79606"
      },
      "outputs": [],
      "source": [
        "a = list()\n",
        "a = []\n",
        "a = [1,2,3]\n",
        "a = ['I', 'Love', 'Python']\n",
        "b = [1,2, '사랑해요', 'Python']\n",
        "b = ['a', '1', 1, [2,3], -4]\n",
        "a = [1,2,['a','b',['사랑해', '파이썬']], 3]"
      ]
    },
    {
      "cell_type": "code",
      "execution_count": 91,
      "id": "df23f6cf",
      "metadata": {
        "id": "df23f6cf",
        "colab": {
          "base_uri": "https://localhost:8080/"
        },
        "outputId": "11a34783-f18b-474c-a5e4-0db330206bf4"
      },
      "outputs": [
        {
          "output_type": "stream",
          "name": "stdout",
          "text": [
            "[1, 2, ['a', 'b', ['사랑해', '파이썬']], 3]\n",
            "['a', '1', 1, [2, 3], -4]\n"
          ]
        }
      ],
      "source": [
        "print(a)\n",
        "print(b)"
      ]
    },
    {
      "cell_type": "code",
      "source": [
        "print(range(10))  # range(): 정수를 순차적으로 만들어주는 함수"
      ],
      "metadata": {
        "id": "E4lm0Iv4gA4g",
        "colab": {
          "base_uri": "https://localhost:8080/"
        },
        "outputId": "32d5d218-8f70-4a13-be85-731d6f262b7b"
      },
      "id": "E4lm0Iv4gA4g",
      "execution_count": 96,
      "outputs": [
        {
          "output_type": "stream",
          "name": "stdout",
          "text": [
            "range(0, 10)\n"
          ]
        }
      ]
    },
    {
      "cell_type": "code",
      "source": [
        "print(list(range(10)))  # 0이상 10미만"
      ],
      "metadata": {
        "colab": {
          "base_uri": "https://localhost:8080/"
        },
        "id": "AnafhpPVgTYM",
        "outputId": "29535a87-10c5-44e9-f9cf-ea20bf0688d9"
      },
      "id": "AnafhpPVgTYM",
      "execution_count": 97,
      "outputs": [
        {
          "output_type": "stream",
          "name": "stdout",
          "text": [
            "[0, 1, 2, 3, 4, 5, 6, 7, 8, 9]\n"
          ]
        }
      ]
    },
    {
      "cell_type": "code",
      "source": [
        "기사 = '''오늘 남부지방과 제주도는 대체로 흐린 가운데 비가 내리겠습니다.\n",
        "예상 강수량은 영남 해안 지역이 30에서 80mm, 많은 곳은 100mm 이상이고, 그 밖의 남부지방과 제주도는 10에서 60mm입니다.\n",
        "비가 오는 동안 천둥·번개가 치고, 한 시간에 30mm가 넘는 강한 비가 쏟아지는 곳이 있겠습니다.\n",
        "남부지방과 제주도의 비는 내일 오전까지 계속되는 곳이 있겠습니다.\n",
        "오늘 중부지방은 가끔 구름이 많이 끼는 가운데 오후에 5에서 30mm의 소나기가 오는 곳이 있겠습니다.\n",
        "낮 최고기온은 서울 33도 등 전국이 26도에서 34도로 어제와 비슷하거나 조금 더 높겠습니다.\n",
        "바다의 물결은 남해 먼바다와 제주도 해상에서 최고 2.5m로 비교적 높게 일겠습니다.\n",
        "동해안과 경남 남해안에는 높은 너울이 밀려오는 곳이 있겠고, 동해상에는 짙은 안개가 끼는 곳이 있겠습니다.\n",
        "'''\n",
        "\n",
        "기사  = 기사.replace('남부지방', '중부지방')  # 단어를 다른 단어로 대체\n",
        "# 변수 재할당 해주기\n",
        "print(기사)\n",
        "\n",
        "result = 기사.split(' ')  # ' '로 분리해서 리스트로 반환\n",
        "print(f'리스트의 요소 개수(길이): {len(result)}')\n",
        "print(result)"
      ],
      "metadata": {
        "colab": {
          "base_uri": "https://localhost:8080/"
        },
        "id": "NRKYu2akhEuI",
        "outputId": "c2bf52ba-a729-4959-ccb9-1af088d99250"
      },
      "id": "NRKYu2akhEuI",
      "execution_count": 111,
      "outputs": [
        {
          "output_type": "stream",
          "name": "stdout",
          "text": [
            "오늘 중부지방과 제주도는 대체로 흐린 가운데 비가 내리겠습니다.\n",
            "예상 강수량은 영남 해안 지역이 30에서 80mm, 많은 곳은 100mm 이상이고, 그 밖의 중부지방과 제주도는 10에서 60mm입니다.\n",
            "비가 오는 동안 천둥·번개가 치고, 한 시간에 30mm가 넘는 강한 비가 쏟아지는 곳이 있겠습니다.\n",
            "중부지방과 제주도의 비는 내일 오전까지 계속되는 곳이 있겠습니다.\n",
            "오늘 중부지방은 가끔 구름이 많이 끼는 가운데 오후에 5에서 30mm의 소나기가 오는 곳이 있겠습니다.\n",
            "낮 최고기온은 서울 33도 등 전국이 26도에서 34도로 어제와 비슷하거나 조금 더 높겠습니다.\n",
            "바다의 물결은 남해 먼바다와 제주도 해상에서 최고 2.5m로 비교적 높게 일겠습니다.\n",
            "동해안과 경남 남해안에는 높은 너울이 밀려오는 곳이 있겠고, 동해상에는 짙은 안개가 끼는 곳이 있겠습니다.\n",
            "\n",
            "리스트의 요소 개수(길이): 92\n",
            "['오늘', '중부지방과', '제주도는', '대체로', '흐린', '가운데', '비가', '내리겠습니다.\\n예상', '강수량은', '영남', '해안', '지역이', '30에서', '80mm,', '많은', '곳은', '100mm', '이상이고,', '그', '밖의', '중부지방과', '제주도는', '10에서', '60mm입니다.\\n비가', '오는', '동안', '천둥·번개가', '치고,', '한', '시간에', '30mm가', '넘는', '강한', '비가', '쏟아지는', '곳이', '있겠습니다.\\n중부지방과', '제주도의', '비는', '내일', '오전까지', '계속되는', '곳이', '있겠습니다.\\n오늘', '중부지방은', '가끔', '구름이', '많이', '끼는', '가운데', '오후에', '5에서', '30mm의', '소나기가', '오는', '곳이', '있겠습니다.\\n낮', '최고기온은', '서울', '33도', '등', '전국이', '26도에서', '34도로', '어제와', '비슷하거나', '조금', '더', '높겠습니다.\\n바다의', '물결은', '남해', '먼바다와', '제주도', '해상에서', '최고', '2.5m로', '비교적', '높게', '일겠습니다.\\n동해안과', '경남', '남해안에는', '높은', '너울이', '밀려오는', '곳이', '있겠고,', '동해상에는', '짙은', '안개가', '끼는', '곳이', '있겠습니다.\\n']\n"
          ]
        }
      ]
    },
    {
      "cell_type": "code",
      "source": [
        "num = list()\n",
        "\n",
        "for i in range(1, 21, 2):\n",
        "    num.append(i)\n",
        "    print(num)"
      ],
      "metadata": {
        "colab": {
          "base_uri": "https://localhost:8080/"
        },
        "id": "rgLZ2mnVgmkb",
        "outputId": "f2aa225a-232a-4803-f7b1-3174f11746b9"
      },
      "id": "rgLZ2mnVgmkb",
      "execution_count": 100,
      "outputs": [
        {
          "output_type": "stream",
          "name": "stdout",
          "text": [
            "[1]\n",
            "[1, 3]\n",
            "[1, 3, 5]\n",
            "[1, 3, 5, 7]\n",
            "[1, 3, 5, 7, 9]\n",
            "[1, 3, 5, 7, 9, 11]\n",
            "[1, 3, 5, 7, 9, 11, 13]\n",
            "[1, 3, 5, 7, 9, 11, 13, 15]\n",
            "[1, 3, 5, 7, 9, 11, 13, 15, 17]\n",
            "[1, 3, 5, 7, 9, 11, 13, 15, 17, 19]\n"
          ]
        }
      ]
    },
    {
      "cell_type": "code",
      "source": [],
      "metadata": {
        "id": "GkmVW8ARgmfP"
      },
      "id": "GkmVW8ARgmfP",
      "execution_count": null,
      "outputs": []
    },
    {
      "cell_type": "code",
      "source": [],
      "metadata": {
        "id": "a_VK3iYNgmZv"
      },
      "id": "a_VK3iYNgmZv",
      "execution_count": null,
      "outputs": []
    },
    {
      "cell_type": "code",
      "source": [
        "c = 'python'\n",
        "print(c)"
      ],
      "metadata": {
        "colab": {
          "base_uri": "https://localhost:8080/"
        },
        "id": "acrTucQGgmSk",
        "outputId": "bca2d17e-7d9a-4089-8246-200a1906396b"
      },
      "id": "acrTucQGgmSk",
      "execution_count": 114,
      "outputs": [
        {
          "output_type": "stream",
          "name": "stdout",
          "text": [
            "python\n"
          ]
        }
      ]
    },
    {
      "cell_type": "markdown",
      "id": "7eef7d7c",
      "metadata": {
        "id": "7eef7d7c"
      },
      "source": [
        "### 리스트 전체 삭제"
      ]
    },
    {
      "cell_type": "code",
      "execution_count": 113,
      "id": "52a5a894",
      "metadata": {
        "id": "52a5a894",
        "colab": {
          "base_uri": "https://localhost:8080/",
          "height": 276
        },
        "outputId": "26ab7fdc-ff7f-45d1-e672-9b15173c3684"
      },
      "outputs": [
        {
          "output_type": "stream",
          "name": "stdout",
          "text": [
            "[1, 2, 3, 4, 5]\n"
          ]
        },
        {
          "output_type": "error",
          "ename": "NameError",
          "evalue": "ignored",
          "traceback": [
            "\u001b[0;31m---------------------------------------------------------------------------\u001b[0m",
            "\u001b[0;31mNameError\u001b[0m                                 Traceback (most recent call last)",
            "\u001b[0;32m<ipython-input-113-33fd35881cac>\u001b[0m in \u001b[0;36m<cell line: 6>\u001b[0;34m()\u001b[0m\n\u001b[1;32m      4\u001b[0m \u001b[0;32mdel\u001b[0m\u001b[0;34m(\u001b[0m\u001b[0mb\u001b[0m\u001b[0;34m)\u001b[0m\u001b[0;34m\u001b[0m\u001b[0;34m\u001b[0m\u001b[0m\n\u001b[1;32m      5\u001b[0m \u001b[0mprint\u001b[0m\u001b[0;34m(\u001b[0m\u001b[0ma\u001b[0m\u001b[0;34m)\u001b[0m\u001b[0;34m\u001b[0m\u001b[0;34m\u001b[0m\u001b[0m\n\u001b[0;32m----> 6\u001b[0;31m \u001b[0mprint\u001b[0m\u001b[0;34m(\u001b[0m\u001b[0mb\u001b[0m\u001b[0;34m)\u001b[0m\u001b[0;34m\u001b[0m\u001b[0;34m\u001b[0m\u001b[0m\n\u001b[0m\u001b[1;32m      7\u001b[0m \u001b[0;34m\u001b[0m\u001b[0m\n\u001b[1;32m      8\u001b[0m \u001b[0mc\u001b[0m \u001b[0;34m=\u001b[0m \u001b[0;34m'python'\u001b[0m\u001b[0;34m\u001b[0m\u001b[0;34m\u001b[0m\u001b[0m\n",
            "\u001b[0;31mNameError\u001b[0m: name 'b' is not defined"
          ]
        }
      ],
      "source": [
        "a = [1,2,3,4,5]\n",
        "b = [6,7,8,9,10]\n",
        "\n",
        "del(b)\n",
        "print(a)\n",
        "print(b)"
      ]
    },
    {
      "cell_type": "markdown",
      "id": "b3ab38e4",
      "metadata": {
        "id": "b3ab38e4"
      },
      "source": [
        "### 리스트 요소에 접근"
      ]
    },
    {
      "cell_type": "code",
      "execution_count": 117,
      "id": "d36d5b62",
      "metadata": {
        "scrolled": true,
        "id": "d36d5b62",
        "colab": {
          "base_uri": "https://localhost:8080/"
        },
        "outputId": "99cfc524-82f7-4c0c-d2fe-9ce015d90e47"
      },
      "outputs": [
        {
          "output_type": "stream",
          "name": "stdout",
          "text": [
            "green\n",
            "['blue', 'deepblue']\n",
            "deepblue\n"
          ]
        }
      ],
      "source": [
        "# 2차원 리스트 ---> 대괄호 열린게 두 개~!\n",
        "colors = ['red', 'green', ['blue', 'deepblue'], 'black', 'white']\n",
        "\n",
        "print( colors[1] )\n",
        "print( colors[2] )\n",
        "print( colors[2][1] )\n",
        "\n"
      ]
    },
    {
      "cell_type": "markdown",
      "id": "b7811d5d",
      "metadata": {
        "id": "b7811d5d"
      },
      "source": [
        "### 리스트 요소 추가 / 변경"
      ]
    },
    {
      "cell_type": "code",
      "execution_count": 122,
      "id": "010220d8",
      "metadata": {
        "id": "010220d8",
        "colab": {
          "base_uri": "https://localhost:8080/"
        },
        "outputId": "87cfcc1d-6a84-4646-e79d-68fb7f8331c9"
      },
      "outputs": [
        {
          "output_type": "stream",
          "name": "stdout",
          "text": [
            "['red', 'green', ['blue', 'deepblue'], 'black', 'white']\n",
            "['red', 'green', ['blue', 'deepblue'], 'black', 'white', '핑크']\n",
            "['red', '연두', 'green', ['blue', 'deepblue'], 'black', 'white', '핑크']\n",
            "['red', '연두', 'green', ['blue', 'darkblue', 'deepblue'], 'black', 'white', '핑크']\n",
            "['red', '연두', 'green', ['blue', 'darkblue', 'deepblue'], 'black', 'white', '핑크', ['r', 'g', 'b']]\n"
          ]
        }
      ],
      "source": [
        "# 리스트 요소 추가\n",
        "colors = ['red', 'green', ['blue', 'deepblue'], 'black', 'white']\n",
        "print(colors)\n",
        "\n",
        "colors.append('핑크')     # 리스트 맨 끝에 추가\n",
        "print(colors)\n",
        "\n",
        "colors.insert(1, '연두')  # 리스트명.insert(인덱스위치, 값)\n",
        "print(colors)\n",
        "\n",
        "colors[3].insert(1, 'darkblue')  # 리스트명.insert(인덱스위치, 값)\n",
        "print(colors)\n",
        "\n",
        "colors.append(['r', 'g', 'b'])\n",
        "print(colors)"
      ]
    },
    {
      "cell_type": "code",
      "source": [
        "# 리스트 요소 변경\n",
        "colors = ['red', '연두', 'green', ['blue', 'darkblue', 'deepblue'], 'black', 'white', '핑크', ['r', 'g', 'b']]\n",
        "\n",
        "colors[1] = 'light green'   # 해당위치 값을 내가 설정한 값으로 대체한다.\n",
        "print(colors)\n",
        "\n",
        "colors[3][1] = 'light blue'   # 해당위치 값을 내가 설정한 값으로 대체한다.\n",
        "print(colors)\n",
        "\n",
        "colors[3:] = 'yellow'\n",
        "#colors.append('yellow')\n",
        "print(colors)"
      ],
      "metadata": {
        "colab": {
          "base_uri": "https://localhost:8080/"
        },
        "id": "gHwHz8Ycl4C3",
        "outputId": "25b3e6c4-396d-472a-cdd3-10bc4603e4ad"
      },
      "id": "gHwHz8Ycl4C3",
      "execution_count": 137,
      "outputs": [
        {
          "output_type": "stream",
          "name": "stdout",
          "text": [
            "['red', 'light green', 'green', ['blue', 'darkblue', 'deepblue'], 'black', 'white', '핑크', ['r', 'g', 'b']]\n",
            "['red', 'light green', 'green', ['blue', 'light blue', 'deepblue'], 'black', 'white', '핑크', ['r', 'g', 'b']]\n",
            "['red', 'light green', 'green', 'y', 'e', 'l', 'l', 'o', 'w']\n"
          ]
        }
      ]
    },
    {
      "cell_type": "markdown",
      "id": "5a5820d1",
      "metadata": {
        "id": "5a5820d1"
      },
      "source": [
        "### 리스트 요소 삭제"
      ]
    },
    {
      "cell_type": "code",
      "execution_count": 138,
      "id": "e4c76b68",
      "metadata": {
        "id": "e4c76b68",
        "colab": {
          "base_uri": "https://localhost:8080/"
        },
        "outputId": "db2d4ee6-db33-4746-ecc2-b36667d215a7"
      },
      "outputs": [
        {
          "output_type": "stream",
          "name": "stdout",
          "text": [
            "['red', 'light green', 'green', 'y', 'e', 'l', 'l', 'o', 'w']\n",
            "['red', 'light green', 'green', 'y', 'e', 'l', 'l', 'o']\n",
            "['red', 'light green', 'green', 'e', 'l', 'l', 'o']\n"
          ]
        }
      ],
      "source": [
        "print(colors)\n",
        "\n",
        "colors.pop()     # 리스트 맨 끝 요소 삭제\n",
        "print(colors)\n",
        "\n",
        "colors.remove('y')  # 리스트명.remove(값), 단 여러 개 일 경우 첫 번째만 삭제됨\n",
        "print(colors)"
      ]
    },
    {
      "cell_type": "code",
      "source": [
        "colors = ['red', 'light green', 'green', 'e', 'l', 'l', 'o']\n",
        "print(colors)\n",
        "\n",
        "del colors[-1]  # 특정 위치 요소 제거\n",
        "print(colors)\n",
        "\n",
        "colors.pop(0)\n",
        "print(colors)"
      ],
      "metadata": {
        "colab": {
          "base_uri": "https://localhost:8080/"
        },
        "id": "6hit8y7AozoA",
        "outputId": "4a409973-89b0-4ce8-af97-f7e749c6b5d2"
      },
      "id": "6hit8y7AozoA",
      "execution_count": 144,
      "outputs": [
        {
          "output_type": "stream",
          "name": "stdout",
          "text": [
            "['red', 'light green', 'green', 'e', 'l', 'l', 'o']\n",
            "['red', 'light green', 'green', 'e', 'l', 'l']\n",
            "['light green', 'green', 'e', 'l', 'l']\n"
          ]
        }
      ]
    },
    {
      "cell_type": "code",
      "source": [
        "for _ in range(-1, -5, -1):\n",
        "    colors.pop()\n",
        "    print(colors)"
      ],
      "metadata": {
        "colab": {
          "base_uri": "https://localhost:8080/"
        },
        "id": "-lmqwY5joFaQ",
        "outputId": "1d1e8c5c-df86-43d6-f7aa-7355a09636eb"
      },
      "id": "-lmqwY5joFaQ",
      "execution_count": 139,
      "outputs": [
        {
          "output_type": "stream",
          "name": "stdout",
          "text": [
            "['red', 'light green', 'green', 'e', 'l', 'l']\n",
            "['red', 'light green', 'green', 'e', 'l']\n",
            "['red', 'light green', 'green', 'e']\n",
            "['red', 'light green', 'green']\n"
          ]
        }
      ]
    },
    {
      "cell_type": "code",
      "source": [
        "list(range(-1, -5, -1))"
      ],
      "metadata": {
        "colab": {
          "base_uri": "https://localhost:8080/"
        },
        "id": "IASr59wJqXWK",
        "outputId": "5b103901-85db-434a-db69-7311d8c16eb9"
      },
      "id": "IASr59wJqXWK",
      "execution_count": 148,
      "outputs": [
        {
          "output_type": "execute_result",
          "data": {
            "text/plain": [
              "[-1, -2, -3, -4]"
            ]
          },
          "metadata": {},
          "execution_count": 148
        }
      ]
    },
    {
      "cell_type": "code",
      "source": [
        "# 임의의 수 생성해서 리스트로 만들고 정렬하기\n",
        "import random\n",
        "\n",
        "numbers = []    # 빈 리스트 생성\n",
        "numbers = list()\n",
        "\n",
        "# 1~100까지 정수 중에 임의로 하나 뽑기\n",
        "numbers.append(random.randint(1, 100) )\n",
        "numbers.append(random.randint(1, 100) )\n",
        "numbers.append(random.randint(1, 100) )\n",
        "numbers.append(random.randint(1, 100) )\n",
        "numbers.append(random.randint(1, 100) )\n",
        "print(f'정렬 전:{numbers}')\n",
        "print()\n",
        "\n",
        "# 정렬하기\n",
        "numbers.sort()\n",
        "print(f'기본(오름차순) 정렬 후:{numbers}')\n",
        "print()\n",
        "numbers.reverse()\n",
        "print(f'내림차순 정렬 후:{numbers}')"
      ],
      "metadata": {
        "colab": {
          "base_uri": "https://localhost:8080/"
        },
        "id": "tjxvma0ir-eU",
        "outputId": "2d628925-c3e4-473f-e9fd-ae0b3c3524f2"
      },
      "id": "tjxvma0ir-eU",
      "execution_count": 159,
      "outputs": [
        {
          "output_type": "stream",
          "name": "stdout",
          "text": [
            "정렬 전:[32, 75, 73, 17, 47]\n",
            "\n",
            "기본(오름차순) 정렬 후:[17, 32, 47, 73, 75]\n",
            "\n",
            "내림차순 정렬 후:[75, 73, 47, 32, 17]\n"
          ]
        }
      ]
    },
    {
      "cell_type": "markdown",
      "id": "df6f6d08",
      "metadata": {
        "id": "df6f6d08"
      },
      "source": [
        "## 2-7.딕셔너리(Dictionary)\n",
        "- 딕셔너리는 쌍이 하나로 묶인 자료구조\n",
        "- 인덱스를 의미하는 ‘키(key)'와 자료의 내용인 ‘ 값(value)'을 이용하여  데이터를 관리\n",
        "- 중괄호 { }로 묶어 구성, 키(Key)와 값(Value)의 쌍으로 구성\n",
        "- 순서(sequence)가 없다"
      ]
    },
    {
      "cell_type": "markdown",
      "id": "4393e9e4",
      "metadata": {
        "id": "4393e9e4"
      },
      "source": [
        "### 딕셔너리 생성"
      ]
    },
    {
      "cell_type": "code",
      "execution_count": 166,
      "id": "da6bca38",
      "metadata": {
        "id": "da6bca38",
        "colab": {
          "base_uri": "https://localhost:8080/"
        },
        "outputId": "5beeef40-91ab-4b7a-f04e-263da548c9a3"
      },
      "outputs": [
        {
          "output_type": "stream",
          "name": "stdout",
          "text": [
            "<class 'dict'> {}\n",
            "<class 'dict'> {'name': '진', 'age': 29, 'email': 'jin@gggmail.com'}\n",
            "29\n",
            "29\n",
            "{'name': '진', 'age': 29, 'email': 'jin@gggmail.com', 7: ['정국', '뷔', '지민']}\n"
          ]
        }
      ],
      "source": [
        "members = {}        # 빈 딕셔너리\n",
        "members = dict()    # 빈 딕셔너리\n",
        "print(type(members), members)\n",
        "\n",
        "\n",
        "members = {'name':'진', 'age':29, 'email':'jin@gggmail.com'}\n",
        "print(type(members), members)\n",
        "print(members['age'])     # 키로 값 찾기\n",
        "print(members.get('age'))\n",
        "members[7]=['정국', '뷔', '지민']  # 딕셔너리에 요소 추가:  새로운 키(key):값(value) 추가\n",
        "print(members)\n"
      ]
    },
    {
      "cell_type": "markdown",
      "id": "b5f4d763",
      "metadata": {
        "id": "b5f4d763"
      },
      "source": [
        "### 딕셔너리 키(key)와 값(value)에 접근하기"
      ]
    },
    {
      "cell_type": "code",
      "execution_count": 171,
      "id": "0697a654",
      "metadata": {
        "id": "0697a654",
        "colab": {
          "base_uri": "https://localhost:8080/"
        },
        "outputId": "f2ee1a8c-17c5-44c5-d758-a1146ec90d91"
      },
      "outputs": [
        {
          "output_type": "stream",
          "name": "stdout",
          "text": [
            "100\n",
            "---방법1---\n",
            "국어 => 100\n",
            "수학 => 90\n",
            "영어 => 80\n",
            "dict_items([('국어', 100), ('수학', 90), ('영어', 80)])\n",
            "---방법2---\n",
            "국어 => 100\n",
            "수학 => 90\n",
            "영어 => 80\n"
          ]
        }
      ],
      "source": [
        "scores = {'국어': 100, '수학': 90, '영어': 80}\n",
        "\n",
        "print(scores['국어'])  # 딕셔너리는 키로 접근한다.\n",
        "\n",
        "# 방법1\n",
        "print('---방법1---')\n",
        "for key in scores:\n",
        "    #print('%s => %s' % (key, scores[key]))\n",
        "    print(f'{key} => {scores[key]}')\n",
        "\n",
        "# (키, 값) 요소를 갖는 리스트 형태로 반환하는 함수\n",
        "print(scores.items())\n",
        "\n",
        "# 방법2\n",
        "print('---방법2---')\n",
        "for key, value in scores.items():\n",
        "    # print('%s => %s' % (key, value))\n",
        "    print(f'{key} => {value}')"
      ]
    },
    {
      "cell_type": "code",
      "execution_count": null,
      "id": "011745db",
      "metadata": {
        "id": "011745db"
      },
      "outputs": [],
      "source": [
        "print(scores.keys())   # 키만 추출해서 리스트 형태로 반환\n",
        "print(scores.values()) # 값만 추출해서 리스트 형태로 반환\n",
        "print(scores.items())  # (키,값)쌍 형태로 추출해서 리스트 형태로 반환"
      ]
    },
    {
      "cell_type": "markdown",
      "id": "7d76f114",
      "metadata": {
        "id": "7d76f114"
      },
      "source": [
        "### 딕셔너리에 요소 추가/수정/삭제"
      ]
    },
    {
      "cell_type": "code",
      "source": [],
      "metadata": {
        "id": "5uIdcLXC7ULl"
      },
      "id": "5uIdcLXC7ULl",
      "execution_count": null,
      "outputs": []
    },
    {
      "cell_type": "code",
      "source": [
        "scores = {'국어': 100, '수학': 90, '영어': 80}\n",
        "print(scores)\n",
        "\n",
        "# 키로 요소 추가하기\n",
        "scores['music'] = 100\n",
        "print(scores)\n",
        "\n",
        "# 요소 값 수정하기\n",
        "scores['수학'] = 99\n",
        "print(scores)\n",
        "\n",
        "# 요소 삭제하기\n",
        "#del (scores['영어'])   # 괄호 안쳐도 됨!  del scores['영어']\n",
        "del (scores['영어'], scores['music'])\n",
        "print(scores)"
      ],
      "metadata": {
        "id": "f15a3506"
      },
      "id": "f15a3506",
      "execution_count": null,
      "outputs": []
    },
    {
      "cell_type": "markdown",
      "id": "45e329e4",
      "metadata": {
        "id": "45e329e4"
      },
      "source": [
        "------------------------"
      ]
    },
    {
      "cell_type": "markdown",
      "id": "66025633",
      "metadata": {
        "id": "66025633"
      },
      "source": [
        "끝"
      ]
    },
    {
      "cell_type": "markdown",
      "source": [
        "# 튜플(tuple)"
      ],
      "metadata": {
        "id": "q70bXeKZ7dvk"
      },
      "id": "q70bXeKZ7dvk"
    },
    {
      "cell_type": "code",
      "source": [
        "a = tuple()\n",
        "a = ()\n",
        "print( type(a) )\n",
        "\n",
        "a = ('사과',)  # 튜플에 요소 1개를 정의할 때는 반드시 ,(쉼표) 사용!!!\n",
        "print( type(a), a)\n",
        "\n",
        "a = (1, 2, 3, 4, 5)\n",
        "print( type(a), a )\n",
        "\n",
        "print(a[3])\n",
        "print(a[:3])\n",
        "\n",
        "a[3] = 44    # 튜플의 요소를 변경하거나 추가할 수 없다."
      ],
      "metadata": {
        "colab": {
          "base_uri": "https://localhost:8080/",
          "height": 313
        },
        "id": "djPGCTD47bCY",
        "outputId": "9ae6e401-0545-4799-ef4a-45caef39a0fc"
      },
      "id": "djPGCTD47bCY",
      "execution_count": 177,
      "outputs": [
        {
          "output_type": "stream",
          "name": "stdout",
          "text": [
            "<class 'tuple'>\n",
            "<class 'tuple'> ('사과',)\n",
            "<class 'tuple'> (1, 2, 3, 4, 5)\n",
            "4\n",
            "(1, 2, 3)\n"
          ]
        },
        {
          "output_type": "error",
          "ename": "TypeError",
          "evalue": "ignored",
          "traceback": [
            "\u001b[0;31m---------------------------------------------------------------------------\u001b[0m",
            "\u001b[0;31mTypeError\u001b[0m                                 Traceback (most recent call last)",
            "\u001b[0;32m<ipython-input-177-97618a697c16>\u001b[0m in \u001b[0;36m<cell line: 14>\u001b[0;34m()\u001b[0m\n\u001b[1;32m     12\u001b[0m \u001b[0mprint\u001b[0m\u001b[0;34m(\u001b[0m\u001b[0ma\u001b[0m\u001b[0;34m[\u001b[0m\u001b[0;34m:\u001b[0m\u001b[0;36m3\u001b[0m\u001b[0;34m]\u001b[0m\u001b[0;34m)\u001b[0m\u001b[0;34m\u001b[0m\u001b[0;34m\u001b[0m\u001b[0m\n\u001b[1;32m     13\u001b[0m \u001b[0;34m\u001b[0m\u001b[0m\n\u001b[0;32m---> 14\u001b[0;31m \u001b[0ma\u001b[0m\u001b[0;34m[\u001b[0m\u001b[0;36m3\u001b[0m\u001b[0;34m]\u001b[0m \u001b[0;34m=\u001b[0m \u001b[0;36m44\u001b[0m\u001b[0;34m\u001b[0m\u001b[0;34m\u001b[0m\u001b[0m\n\u001b[0m",
            "\u001b[0;31mTypeError\u001b[0m: 'tuple' object does not support item assignment"
          ]
        }
      ]
    },
    {
      "cell_type": "markdown",
      "source": [
        "# 집합(Set)"
      ],
      "metadata": {
        "id": "xvK5RIqy8ga9"
      },
      "id": "xvK5RIqy8ga9"
    },
    {
      "cell_type": "code",
      "source": [
        "a = set()   # 빈 집합\n",
        "a = set(\"Hello\")\n",
        "print(type(a), a)   # 중복 제거(유니크한 값만 출력)되고 순서없이 출력된다."
      ],
      "metadata": {
        "colab": {
          "base_uri": "https://localhost:8080/"
        },
        "id": "HoQAMdhr7ZQj",
        "outputId": "28ac7f35-f869-492c-905a-523440d4a2c6"
      },
      "id": "HoQAMdhr7ZQj",
      "execution_count": 178,
      "outputs": [
        {
          "output_type": "stream",
          "name": "stdout",
          "text": [
            "<class 'set'> {'o', 'H', 'l', 'e'}\n"
          ]
        }
      ]
    },
    {
      "cell_type": "code",
      "source": [
        "# 집합에서는 중복된 데이터를 배제시킬수 있다.\n",
        "fruits = ['사과', '바나나', '사과', '포도', '귤', '귤']\n",
        "print(type(fruits))\n",
        "\n",
        "c = set(fruits)\n",
        "print(type(c))\n",
        "\n",
        "a = list( set(fruits) )    #\n",
        "a.sort()\n",
        "print(type(a), a)\n",
        "\n",
        "\n"
      ],
      "metadata": {
        "id": "RKidv2AL81Hz",
        "colab": {
          "base_uri": "https://localhost:8080/"
        },
        "outputId": "a95a0bb0-c65d-4dd4-f240-698ffa63be4c"
      },
      "id": "RKidv2AL81Hz",
      "execution_count": 189,
      "outputs": [
        {
          "output_type": "stream",
          "name": "stdout",
          "text": [
            "<class 'list'>\n",
            "<class 'set'>\n",
            "<class 'list'> ['귤', '바나나', '사과', '포도']\n"
          ]
        }
      ]
    },
    {
      "cell_type": "code",
      "source": [
        "help(tuple)     # help(): 도움말 함수"
      ],
      "metadata": {
        "id": "zWxT2wT3843o"
      },
      "id": "zWxT2wT3843o",
      "execution_count": null,
      "outputs": []
    }
  ],
  "metadata": {
    "kernelspec": {
      "display_name": "Python 3 (ipykernel)",
      "language": "python",
      "name": "python3"
    },
    "language_info": {
      "codemirror_mode": {
        "name": "ipython",
        "version": 3
      },
      "file_extension": ".py",
      "mimetype": "text/x-python",
      "name": "python",
      "nbconvert_exporter": "python",
      "pygments_lexer": "ipython3",
      "version": "3.10.9"
    },
    "vscode": {
      "interpreter": {
        "hash": "b41e41bff03a930185ac2cbea60ce521f7c8c2f5401ceb5c30214081f77ab4f5"
      }
    },
    "colab": {
      "provenance": [],
      "include_colab_link": true
    }
  },
  "nbformat": 4,
  "nbformat_minor": 5
}