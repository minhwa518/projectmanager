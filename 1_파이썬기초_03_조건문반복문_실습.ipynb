{
  "cells": [
    {
      "cell_type": "markdown",
      "metadata": {
        "id": "view-in-github",
        "colab_type": "text"
      },
      "source": [
        "<a href=\"https://colab.research.google.com/github/minhwa518/projectmanager/blob/main/1_%ED%8C%8C%EC%9D%B4%EC%8D%AC%EA%B8%B0%EC%B4%88_03_%EC%A1%B0%EA%B1%B4%EB%AC%B8%EB%B0%98%EB%B3%B5%EB%AC%B8_%EC%8B%A4%EC%8A%B5.ipynb\" target=\"_parent\"><img src=\"https://colab.research.google.com/assets/colab-badge.svg\" alt=\"Open In Colab\"/></a>"
      ]
    },
    {
      "cell_type": "markdown",
      "id": "25f81d8c",
      "metadata": {
        "id": "25f81d8c"
      },
      "source": [
        "# 파이썬 기초 다지기"
      ]
    },
    {
      "cell_type": "markdown",
      "id": "3f3da3bd",
      "metadata": {
        "id": "3f3da3bd"
      },
      "source": [
        "## 3- 조건문과 반복문\n",
        "데이터와 처리의 흐름을 제어하는 조건문과 반목문"
      ]
    },
    {
      "cell_type": "markdown",
      "id": "0c52a67e",
      "metadata": {
        "id": "0c52a67e"
      },
      "source": [
        "----------------------------------"
      ]
    },
    {
      "cell_type": "markdown",
      "id": "aee8f2e8",
      "metadata": {
        "id": "aee8f2e8"
      },
      "source": [
        "## 3-1.if 조건문"
      ]
    },
    {
      "cell_type": "markdown",
      "id": "e89f3546",
      "metadata": {
        "id": "e89f3546"
      },
      "source": [
        "### 조건문: if"
      ]
    },
    {
      "cell_type": "code",
      "execution_count": 2,
      "id": "4f161d86",
      "metadata": {
        "colab": {
          "base_uri": "https://localhost:8080/"
        },
        "id": "4f161d86",
        "outputId": "5e17107d-383d-41ef-cd5a-1f2b3cb0007e"
      },
      "outputs": [
        {
          "name": "stdout",
          "output_type": "stream",
          "text": [
            "숫자를 입력하세요: 100\n"
          ]
        }
      ],
      "source": [
        "a = int(input('숫자를 입력하세요: '))\n",
        "if a > 100:\n",
        "    print(f'{a}는 100보다 크군요~')"
      ]
    },
    {
      "cell_type": "markdown",
      "id": "cb89ea65",
      "metadata": {
        "id": "cb89ea65"
      },
      "source": [
        "### 조건문: if ~ else"
      ]
    },
    {
      "cell_type": "code",
      "execution_count": 4,
      "id": "6eca2413",
      "metadata": {
        "colab": {
          "base_uri": "https://localhost:8080/"
        },
        "id": "6eca2413",
        "outputId": "6dfcf916-fb82-45fc-b960-a020a5cd32a7"
      },
      "outputs": [
        {
          "output_type": "stream",
          "name": "stdout",
          "text": [
            "숫자를 입력하세요: 100\n",
            "100는 100보다 크지 않거나 같군요!\n"
          ]
        }
      ],
      "source": [
        "a = int(input('숫자를 입력하세요: '))\n",
        "if a > 100:\n",
        "    print(f'{a}는 100보다 크군요~')\n",
        "else:\n",
        "    print(f'{a}는 100보다 크지 않거나 같군요!')"
      ]
    },
    {
      "cell_type": "markdown",
      "id": "13b404bd",
      "metadata": {
        "id": "13b404bd"
      },
      "source": [
        "### 조건문 : 중첩if"
      ]
    },
    {
      "cell_type": "code",
      "source": [
        "a = int(input('숫자를 입력하세요: '))\n",
        "if a > 100:\n",
        "    print(f'{a}는 100보다 크군요~')\n",
        "    if a > 200:\n",
        "        print(f'{a}는 200보다 크군요!')\n",
        "    else:\n",
        "        print(f'{a}는 200보다 같거나 크지 않군요!')\n",
        "else:\n",
        "    if a == 100:\n",
        "        print(f'{a}는 100과 같군요!')\n",
        "    else:\n",
        "        print(f'{a}는 100보다 작군요!')"
      ],
      "metadata": {
        "id": "9575f530"
      },
      "id": "9575f530",
      "execution_count": null,
      "outputs": []
    },
    {
      "cell_type": "markdown",
      "source": [
        "### 조건문: if ~ elif ~ else"
      ],
      "metadata": {
        "id": "XeOw5FPoi_BT"
      },
      "id": "XeOw5FPoi_BT"
    },
    {
      "cell_type": "code",
      "source": [
        "a = int(input('숫자를 입력하세요: '))\n",
        "if a > 200:\n",
        "    print(f'{a}는 200보다 크군요!')\n",
        "elif a > 100:\n",
        "    print(f'{a}는 100보다 크고 200보다 작거나 같군요!')\n",
        "elif a == 100:\n",
        "    print(f'{a}는 100과 같군요!')\n",
        "else:\n",
        "    print(f'{a}는 100보다 작군요!')"
      ],
      "metadata": {
        "colab": {
          "base_uri": "https://localhost:8080/"
        },
        "id": "Dl_8SRwJjFlR",
        "outputId": "0d1f00ea-602d-4153-cb2e-29eb08421b4e"
      },
      "id": "Dl_8SRwJjFlR",
      "execution_count": 9,
      "outputs": [
        {
          "output_type": "stream",
          "name": "stdout",
          "text": [
            "숫자를 입력하세요: 95\n",
            "95는 100보다 작군요!\n"
          ]
        }
      ]
    },
    {
      "cell_type": "markdown",
      "id": "349dec8b",
      "metadata": {
        "id": "349dec8b"
      },
      "source": [
        "### [실습문제] 짝수/홀수 판별하기"
      ]
    },
    {
      "cell_type": "code",
      "execution_count": null,
      "id": "de48c13d",
      "metadata": {
        "id": "de48c13d"
      },
      "outputs": [],
      "source": [
        "x = int(input('숫자를 입력해 주세요: '))\n",
        "\n",
        "if x % 2 == 0:    # 짝수/홀수 조건 판별하기\n",
        "    print(f'{x}는 짝수입니다.')\n",
        "else:\n",
        "    print(f'{x}는 홀수입니다.')\n"
      ]
    },
    {
      "cell_type": "code",
      "source": [
        "# 멤버십 연산자 사용해서 조건문 판별하기\n",
        "\n",
        "a = [1, 2, 3, 4, 5]\n",
        "x = input('숫자 입력해봥~: ')\n",
        "if x in a:\n",
        "    print(f'{x}는 {a} 리스트에 포함되어 있습니다.')\n",
        "else:\n",
        "    print(f'{x}는 {a} 리스트에 포함되어 있지 않습니다.')\n"
      ],
      "metadata": {
        "colab": {
          "base_uri": "https://localhost:8080/"
        },
        "id": "s01ZRjdFlwF7",
        "outputId": "d2aa81b1-8b82-4bbd-f9e8-e2e1d4cbf121"
      },
      "id": "s01ZRjdFlwF7",
      "execution_count": 22,
      "outputs": [
        {
          "output_type": "stream",
          "name": "stdout",
          "text": [
            "숫자 입력해봥~: 6\n",
            "6는 [1, 2, 3, 4, 5] 리스트에 포함되어 있지 않습니다.\n"
          ]
        }
      ]
    },
    {
      "cell_type": "markdown",
      "id": "30919e6b",
      "metadata": {
        "id": "30919e6b"
      },
      "source": [
        "### [실습문제]\n",
        "피타고라스 정리에 의해 직각삼각형의 세 변의 길이에 대한 관계는 아래와 같습니다. 이 정리를 이용하여 세 변의 길이를 입력 받은 삼각형이 직각삼각형인지 아닌지 판별하는 프로그램을 만들어 보세요.\n"
      ]
    },
    {
      "cell_type": "code",
      "source": [
        "# 1. 세 변의 길이 입력 받기\n",
        "a = int(input('변 a의 길이: '))\n",
        "b = int(input('변 b의 길이: '))\n",
        "c = int(input('변 c의 길이: '))\n",
        "\n",
        "print('-' * 30)  # 분리 선\n",
        "\n",
        "# 2. 직각삼각형 판별하기\n",
        "if a**2 + b**2 == c**2:\n",
        "    print(f'세변 {a}, {b}, {c}는 직각삼각형 입니다.')\n",
        "else:\n",
        "    print(f'세변 {a}, {b}, {c}는 직각삼각형이 아닙니다.')"
      ],
      "metadata": {
        "id": "f6e6ca29",
        "colab": {
          "base_uri": "https://localhost:8080/"
        },
        "outputId": "12b0a90d-9b0c-4fe6-a7b8-2ec6be1d65fd"
      },
      "id": "f6e6ca29",
      "execution_count": 27,
      "outputs": [
        {
          "output_type": "stream",
          "name": "stdout",
          "text": [
            "변 a의 길이: 3\n",
            "변 b의 길이: 4\n",
            "변 c의 길이: 5\n",
            "------------------------------\n",
            "세변 3, 4, 5는 직각삼각형 입니다.\n"
          ]
        }
      ]
    },
    {
      "cell_type": "code",
      "source": [
        "# [참고] 기술통계 수학 함수 ----------------------\n",
        "a = [1,2,3,4,5]\n",
        "print(f'{a}의 개수(길이): {len(a)}' )\n",
        "print(f'{a}의 합계  : {sum(a)}' )\n",
        "print(f'{a}의 최소값: {min(a)}' )\n",
        "print(f'{a}의 최대값: {max(a)}' )\n",
        "print(f'{a}의 평균  : {sum(a)/len(a)}' )\n"
      ],
      "metadata": {
        "colab": {
          "base_uri": "https://localhost:8080/"
        },
        "id": "Ew5Bi6PurwIL",
        "outputId": "713fb322-977b-4ab5-88a7-9690ce601f8d"
      },
      "id": "Ew5Bi6PurwIL",
      "execution_count": 26,
      "outputs": [
        {
          "output_type": "stream",
          "name": "stdout",
          "text": [
            "[1, 2, 3, 4, 5]의 개수(길이): 5\n",
            "[1, 2, 3, 4, 5]의 합계  : 15\n",
            "[1, 2, 3, 4, 5]의 최소값: 1\n",
            "[1, 2, 3, 4, 5]의 최대값: 5\n",
            "[1, 2, 3, 4, 5]의 평균  : 3.0\n"
          ]
        }
      ]
    },
    {
      "cell_type": "code",
      "source": [
        "# 성적 등급 판별코드 만들기\n",
        "\n",
        "score = float(input('성적을 입력해 주세요: '))\n",
        "print('-' * 25)  # 분리 선\n",
        "\n",
        "grade = 'D'\n",
        "\n",
        "if score >= 90:\n",
        "    grade = 'A'\n",
        "elif score >= 80:\n",
        "    grade = 'B'\n",
        "elif score >= 70:\n",
        "    grade = 'C'\n",
        "\n",
        "print(f' 성적: {score}는 {grade}등급 입니다.' )\n",
        "# print 함수를 한 번만 호출하는게 처리속도에 도움된다.\n"
      ],
      "metadata": {
        "colab": {
          "base_uri": "https://localhost:8080/"
        },
        "id": "negoWsnbtkdC",
        "outputId": "286900ca-3860-40b0-dc7e-edf7235bef8f"
      },
      "id": "negoWsnbtkdC",
      "execution_count": 37,
      "outputs": [
        {
          "output_type": "stream",
          "name": "stdout",
          "text": [
            "성적을 입력해 주세요: 89.5\n",
            "-------------------------\n",
            " 성적: 89.5는 B등급 입니다.\n"
          ]
        }
      ]
    },
    {
      "cell_type": "code",
      "source": [
        "# 온도에 따른 에어컨, 내복, 난방키 조건문 만들기\n",
        "\n",
        "temp = float(input('현재 온도를 입력하세요: '))\n",
        "print('-' * 30)\n",
        "\n",
        "tip = '쾌적한 온도입니다.'\n",
        "\n",
        "if temp >= 30:\n",
        "    tip = '에어켠을 켜세요!'\n",
        "elif 10 < temp < 15:\n",
        "    tip = '내복을 입으세요!'\n",
        "else:\n",
        "    tip = '난방기를 켜세요!'\n",
        "\n",
        "print(f'온도가 {temp}℃일때는 {tip}')"
      ],
      "metadata": {
        "colab": {
          "base_uri": "https://localhost:8080/"
        },
        "id": "DONXcgQVxejT",
        "outputId": "62a12159-3b17-494b-b1c1-0c431c83eda6"
      },
      "id": "DONXcgQVxejT",
      "execution_count": 53,
      "outputs": [
        {
          "output_type": "stream",
          "name": "stdout",
          "text": [
            "현재 온도를 입력하세요: 5\n",
            "------------------------------\n",
            "온도가 5.0℃일때는 난방기를 켜세요!\n"
          ]
        }
      ]
    },
    {
      "cell_type": "code",
      "source": [
        "temp = float(input('현재 온도를 입력하세요: '))\n",
        "\n",
        "tip = '쾌적한 온도입니다.'\n",
        "\n",
        "if temp >= 30:\n",
        "    tip = '에어켠을 켜세요!'\n",
        "elif temp < 15:\n",
        "    tip = '내복을 입으세요!'\n",
        "    if temp <=10:\n",
        "        tip = '난방기를 켜세요!'\n",
        "\n",
        "print(f'온도가 {temp}℃일때는 {tip}')"
      ],
      "metadata": {
        "colab": {
          "base_uri": "https://localhost:8080/"
        },
        "id": "NlSabtr81VX1",
        "outputId": "e2e5a58b-5821-479d-9a25-89693d51a5a1"
      },
      "id": "NlSabtr81VX1",
      "execution_count": 55,
      "outputs": [
        {
          "output_type": "stream",
          "name": "stdout",
          "text": [
            "현재 온도를 입력하세요: 9\n",
            "------------------------------\n",
            "온도가 9.0℃일때는 난방기를 켜세요!\n"
          ]
        }
      ]
    },
    {
      "cell_type": "code",
      "source": [
        "### 코랩(윈도우)에서 gTTS 기능 사용하기\n",
        "\n",
        "!pip install gtts\n",
        "\n",
        "from gtts import gTTS\n",
        "from IPython.display import Audio\n",
        "\n",
        "# kor_wav = gTTS('안녕 여러분!', lang = 'ko')\n",
        "# kor_wav.save('kor.wav')\n",
        "# display(Audio('kor.wav', autoplay=True))\n",
        "\n",
        "kor_wav = gTTS('Hello Everyone!', lang = 'en')\n",
        "kor_wav.save('eng.wav')\n",
        "display(Audio('eng.wav', autoplay=True))"
      ],
      "metadata": {
        "colab": {
          "base_uri": "https://localhost:8080/",
          "height": 223
        },
        "id": "7Oi_XkTy9-Xf",
        "outputId": "4e178d13-0087-4c95-e1eb-a90199f41d62"
      },
      "id": "7Oi_XkTy9-Xf",
      "execution_count": 59,
      "outputs": [
        {
          "output_type": "stream",
          "name": "stdout",
          "text": [
            "Requirement already satisfied: gtts in /usr/local/lib/python3.10/dist-packages (2.3.2)\n",
            "Requirement already satisfied: requests<3,>=2.27 in /usr/local/lib/python3.10/dist-packages (from gtts) (2.31.0)\n",
            "Requirement already satisfied: click<8.2,>=7.1 in /usr/local/lib/python3.10/dist-packages (from gtts) (8.1.6)\n",
            "Requirement already satisfied: charset-normalizer<4,>=2 in /usr/local/lib/python3.10/dist-packages (from requests<3,>=2.27->gtts) (3.2.0)\n",
            "Requirement already satisfied: idna<4,>=2.5 in /usr/local/lib/python3.10/dist-packages (from requests<3,>=2.27->gtts) (3.4)\n",
            "Requirement already satisfied: urllib3<3,>=1.21.1 in /usr/local/lib/python3.10/dist-packages (from requests<3,>=2.27->gtts) (2.0.4)\n",
            "Requirement already satisfied: certifi>=2017.4.17 in /usr/local/lib/python3.10/dist-packages (from requests<3,>=2.27->gtts) (2023.7.22)\n"
          ]
        },
        {
          "output_type": "display_data",
          "data": {
            "text/plain": [
              "<IPython.lib.display.Audio object>"
            ],
            "text/html": [
              "\n",
              "                <audio  controls=\"controls\" autoplay=\"autoplay\">\n",
              "                    <source src=\"data:audio/x-wav;base64,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\" type=\"audio/x-wav\" />\n",
              "                    Your browser does not support the audio element.\n",
              "                </audio>\n",
              "              "
            ]
          },
          "metadata": {}
        }
      ]
    },
    {
      "cell_type": "markdown",
      "id": "862598a5",
      "metadata": {
        "id": "862598a5"
      },
      "source": [
        "### [실습문제]\n",
        "아래 조건을 만족하는 커피 자동주문 머신을 만들어보세요.<br><br>\n",
        "[커피 자동주문 머신]<br>\n",
        "친구들과 현금 커피 자동주문 머신 앞에서\n",
        " - 아메리카노 2잔과 카페라테 2잔 카푸치노 1잔을 주문하였다.\n",
        " - 아메리카노 한잔에 2500원이고\n",
        " - 카페라테는 한잔에 3000원\n",
        " - 카푸치노는 한잔에 3000원이다.\n",
        "커피 종류와 잔 수를 결정한 후 현금 15000원을 투입하고 잔돈을 1000원 받았다."
      ]
    },
    {
      "cell_type": "code",
      "execution_count": 69,
      "id": "0d6035c2",
      "metadata": {
        "colab": {
          "base_uri": "https://localhost:8080/"
        },
        "id": "0d6035c2",
        "outputId": "245ac9e1-0fe9-44f7-f389-80b31458f3d1"
      },
      "outputs": [
        {
          "output_type": "stream",
          "name": "stdout",
          "text": [
            "[커피 자동주문 머신 메뉴]\n",
            "------------------------------\n",
            "-아메리카노는 2500원\n",
            "-카레라떼는 3000원\n",
            "-카푸치노는 3000원\n",
            "입니다. 원하시는 커피종류와 잔수를 입력하세요.\n",
            "------------------------------\n",
            "아메리카노 몇잔?2\n",
            "카페라떼 몇잔?2\n",
            "카푸치노 몇잔?1\n",
            "지불할 총 금액은 14000원 입니다.\n",
            "돈을 넣어주세요~ 15000\n",
            "거스름돈은 1000입니다.\n"
          ]
        }
      ],
      "source": [
        "menu = '''[커피 자동주문 머신 메뉴]\n",
        "------------------------------\n",
        "-아메리카노는 2500원\n",
        "-카레라떼는 3000원\n",
        "-카푸치노는 3000원\n",
        "입니다. 원하시는 커피종류와 잔수를 입력하세요.\n",
        "------------------------------'''\n",
        "print(menu)\n",
        "coffee1 = int(input(\"아메리카노 몇잔?\"))\n",
        "coffee2 = int(input(\"카페라떼 몇잔?\"))\n",
        "coffee3 = int(input(\"카푸치노 몇잔?\"))\n",
        "\n",
        "total = coffee1 * 2500 + coffee2 * 3000 + coffee3 * 3000\n",
        "a = print(f'지불할 총 금액은 {total}원 입니다.')\n",
        "b = int(input(f'돈을 넣어주세요~ '))\n",
        "c = print(f'거스름돈은 {b-total}입니다.')\n",
        "\n",
        "\n"
      ]
    },
    {
      "cell_type": "code",
      "source": [
        "menu = '''[커피 자동주문 머신 메뉴]\n",
        "------------------------------\n",
        "-아메리카노는 2500원\n",
        "-카레라떼는 3000원\n",
        "-카푸치노는 3000원\n",
        "입니다. 원하시는 커피종류와 잔수를 입력하세요.\n",
        "------------------------------'''\n",
        "print(menu)\n",
        "coffee1 = int(input(\"아메리카노 몇잔? \"))\n",
        "coffee2 = int(input(\"카페라떼 몇잔? \"))\n",
        "coffee3 = int(input(\"카푸치노 몇잔? \"))\n",
        "\n",
        "total = coffee1*2500 + coffee2*3000 + coffee3*3000\n",
        "print(f'지불할 총 금액은 {total}원 입니다.')\n",
        "\n",
        "money = int(input(f'{total}원을 넣어주세요~ '))\n",
        "\n",
        "if total > money:\n",
        "    print(f'돈이 부족합니다.  {total - money}원을 더 넣어주세요.')\n",
        "else:\n",
        "    print(f'거스름돈은 {abs(total-money)}원 입니다. 커피 맛있게 드세요!')\n"
      ],
      "metadata": {
        "colab": {
          "base_uri": "https://localhost:8080/"
        },
        "id": "rGBrgrBpCmni",
        "outputId": "f8388b12-9b80-4d49-e59f-729a9e8319ea"
      },
      "id": "rGBrgrBpCmni",
      "execution_count": 78,
      "outputs": [
        {
          "output_type": "stream",
          "name": "stdout",
          "text": [
            "[커피 자동주문 머신 메뉴]\n",
            "------------------------------\n",
            "-아메리카노는 2500원\n",
            "-카레라떼는 3000원\n",
            "-카푸치노는 3000원\n",
            "입니다. 원하시는 커피종류와 잔수를 입력하세요.\n",
            "------------------------------\n",
            "아메리카노 몇잔? 1\n",
            "카페라떼 몇잔? 1\n",
            "카푸치노 몇잔? 1\n",
            "지불할 총 금액은 8500원 입니다.\n",
            "8500원을 넣어주세요~ 50000\n",
            "거스름돈은 41500원 입니다. 커피 맛있게 드세요!\n"
          ]
        }
      ]
    },
    {
      "cell_type": "markdown",
      "source": [
        "### 간소화된 조건문 표현식"
      ],
      "metadata": {
        "id": "5STGTO99GSfR"
      },
      "id": "5STGTO99GSfR"
    },
    {
      "cell_type": "code",
      "source": [
        "score = int(input('점수를 입력하세요: '))\n",
        "if score >= 80:\n",
        "    message = '성공'\n",
        "else:\n",
        "    message = '실패'\n",
        "print(f'{score}점 일 때 {message}')"
      ],
      "metadata": {
        "colab": {
          "base_uri": "https://localhost:8080/"
        },
        "id": "2QN_G9WBGa-h",
        "outputId": "ee382941-d176-4631-a329-c7ebdf7ac2a1"
      },
      "id": "2QN_G9WBGa-h",
      "execution_count": 82,
      "outputs": [
        {
          "output_type": "stream",
          "name": "stdout",
          "text": [
            "점수를 입력하세요: 90\n",
            "90점 일 때 성공\n"
          ]
        }
      ]
    },
    {
      "cell_type": "code",
      "source": [
        "score = int(input('점수를 입력하세요: '))\n",
        "message = '성공' if score >= 80 else '실패'\n",
        "message\n",
        "#print(f\"{score}점 일 때 {'성공' if score >= 80 else '실패'}!\")"
      ],
      "metadata": {
        "colab": {
          "base_uri": "https://localhost:8080/",
          "height": 54
        },
        "id": "XqVqSI4IHEfa",
        "outputId": "18c772a4-0d34-4496-8c9a-d42f3de5e8a5"
      },
      "id": "XqVqSI4IHEfa",
      "execution_count": 4,
      "outputs": [
        {
          "name": "stdout",
          "output_type": "stream",
          "text": [
            "점수를 입력하세요: 90\n"
          ]
        },
        {
          "output_type": "execute_result",
          "data": {
            "text/plain": [
              "'성공'"
            ],
            "application/vnd.google.colaboratory.intrinsic+json": {
              "type": "string"
            }
          },
          "metadata": {},
          "execution_count": 4
        }
      ]
    },
    {
      "cell_type": "markdown",
      "id": "67412428",
      "metadata": {
        "id": "67412428"
      },
      "source": [
        "## 3-2.반복문"
      ]
    },
    {
      "cell_type": "markdown",
      "id": "44197774",
      "metadata": {
        "id": "44197774"
      },
      "source": [
        "### 반복문: for 반복문"
      ]
    },
    {
      "cell_type": "markdown",
      "source": [
        "### 1. raㅜge()함수 사용하여 반복하기"
      ],
      "metadata": {
        "id": "CWcBTusMJqo7"
      },
      "id": "CWcBTusMJqo7"
    },
    {
      "cell_type": "code",
      "source": [
        "# for i in range(0, 3, 1):\n",
        "# for i in range(0, 3):\n",
        "for i in range(3):\n",
        "    print(f'{i+1}번째 for 반복문입니다.')\n",
        "    #print(i+1, '번째 for 반복문입니다.')"
      ],
      "metadata": {
        "id": "9f69ecc4",
        "colab": {
          "base_uri": "https://localhost:8080/"
        },
        "outputId": "cdbdb9f1-e8e1-47c2-8fb3-1b230e1d4770"
      },
      "id": "9f69ecc4",
      "execution_count": 16,
      "outputs": [
        {
          "output_type": "stream",
          "name": "stdout",
          "text": [
            "1번째 for 반복문입니다.\n",
            "2번째 for 반복문입니다.\n",
            "3번째 for 반복문입니다.\n"
          ]
        }
      ]
    },
    {
      "cell_type": "markdown",
      "source": [
        "### 2. 문자열 길이를 이용하여 반복하기"
      ],
      "metadata": {
        "id": "31M-bXxvKEXo"
      },
      "id": "31M-bXxvKEXo"
    },
    {
      "cell_type": "code",
      "source": [
        "사과 = 'apple'\n",
        "for i in 사과:\n",
        "    print(f'{i} 사과입니다')"
      ],
      "metadata": {
        "colab": {
          "base_uri": "https://localhost:8080/"
        },
        "id": "kuFxtbmQJl8g",
        "outputId": "01b31c42-29a3-43b2-c457-2a4f771d31cb"
      },
      "id": "kuFxtbmQJl8g",
      "execution_count": 11,
      "outputs": [
        {
          "output_type": "stream",
          "name": "stdout",
          "text": [
            "a 사과입니다\n",
            "p 사과입니다\n",
            "p 사과입니다\n",
            "l 사과입니다\n",
            "e 사과입니다\n"
          ]
        }
      ]
    },
    {
      "cell_type": "markdown",
      "source": [
        "### 3. 리스트를 이용하여 반복하기"
      ],
      "metadata": {
        "id": "9L_hZ96GLX8u"
      },
      "id": "9L_hZ96GLX8u"
    },
    {
      "cell_type": "code",
      "source": [
        "fruits = ['포도', '사과', '오렌지', '바나나', '체리']\n",
        "for fruit in fruits:\n",
        "    print(f'내가 좋아하는 과일 {fruit}!')"
      ],
      "metadata": {
        "colab": {
          "base_uri": "https://localhost:8080/"
        },
        "id": "YSHuCLMVLbfz",
        "outputId": "4d06a008-71c3-44a1-d631-fc7448dc4491"
      },
      "id": "YSHuCLMVLbfz",
      "execution_count": 17,
      "outputs": [
        {
          "output_type": "stream",
          "name": "stdout",
          "text": [
            "내가 좋아하는 과일 포도!\n",
            "내가 좋아하는 과일 사과!\n",
            "내가 좋아하는 과일 오렌지!\n",
            "내가 좋아하는 과일 바나나!\n",
            "내가 좋아하는 과일 체리!\n"
          ]
        }
      ]
    },
    {
      "cell_type": "code",
      "source": [
        "fruits = ['포도', '사과', '오렌지', '바나나', '체리']\n",
        "print('내가 좋아하는 과일은 ')\n",
        "for fruit in fruits:\n",
        "    print(fruit, end=' ')\n",
        "    # print(fruit)"
      ],
      "metadata": {
        "colab": {
          "base_uri": "https://localhost:8080/"
        },
        "id": "Z_g5SgMMLzfL",
        "outputId": "02ade718-a73a-420f-e552-537f0203a551"
      },
      "id": "Z_g5SgMMLzfL",
      "execution_count": 21,
      "outputs": [
        {
          "output_type": "stream",
          "name": "stdout",
          "text": [
            "내가 좋아하는 과일은 \n",
            "포도 사과 오렌지 바나나 체리 "
          ]
        }
      ]
    },
    {
      "cell_type": "markdown",
      "id": "8288e636",
      "metadata": {
        "id": "8288e636"
      },
      "source": [
        "### [실습문제]\n",
        "키보드로 양의 정수(n)을 입력 받아 1~n까지의 합을 구하는 프로그램을 만들어 보세요."
      ]
    },
    {
      "cell_type": "code",
      "execution_count": 44,
      "id": "d6774150",
      "metadata": {
        "colab": {
          "base_uri": "https://localhost:8080/",
          "height": 428
        },
        "id": "d6774150",
        "outputId": "7e12d8e6-58aa-4e48-ee7c-92732226571e"
      },
      "outputs": [
        {
          "output_type": "error",
          "ename": "KeyboardInterrupt",
          "evalue": "ignored",
          "traceback": [
            "\u001b[0;31m---------------------------------------------------------------------------\u001b[0m",
            "\u001b[0;31mKeyboardInterrupt\u001b[0m                         Traceback (most recent call last)",
            "\u001b[0;32m<ipython-input-44-70afbdb79504>\u001b[0m in \u001b[0;36m<cell line: 2>\u001b[0;34m()\u001b[0m\n\u001b[1;32m      1\u001b[0m \u001b[0;31m# 1. 숫자 N을 입력하세요.\u001b[0m\u001b[0;34m\u001b[0m\u001b[0;34m\u001b[0m\u001b[0m\n\u001b[0;32m----> 2\u001b[0;31m \u001b[0mn\u001b[0m \u001b[0;34m=\u001b[0m \u001b[0mint\u001b[0m\u001b[0;34m(\u001b[0m\u001b[0minput\u001b[0m\u001b[0;34m(\u001b[0m\u001b[0;34m'숫자를 입력하세요: '\u001b[0m\u001b[0;34m)\u001b[0m\u001b[0;34m)\u001b[0m\u001b[0;34m\u001b[0m\u001b[0;34m\u001b[0m\u001b[0m\n\u001b[0m\u001b[1;32m      3\u001b[0m \u001b[0;34m\u001b[0m\u001b[0m\n\u001b[1;32m      4\u001b[0m \u001b[0;34m\u001b[0m\u001b[0m\n\u001b[1;32m      5\u001b[0m \u001b[0;31m# 2. 1~N까지 합계를 구하세요.\u001b[0m\u001b[0;34m\u001b[0m\u001b[0;34m\u001b[0m\u001b[0m\n",
            "\u001b[0;32m/usr/local/lib/python3.10/dist-packages/ipykernel/kernelbase.py\u001b[0m in \u001b[0;36mraw_input\u001b[0;34m(self, prompt)\u001b[0m\n\u001b[1;32m    849\u001b[0m                 \u001b[0;34m\"raw_input was called, but this frontend does not support input requests.\"\u001b[0m\u001b[0;34m\u001b[0m\u001b[0;34m\u001b[0m\u001b[0m\n\u001b[1;32m    850\u001b[0m             )\n\u001b[0;32m--> 851\u001b[0;31m         return self._input_request(str(prompt),\n\u001b[0m\u001b[1;32m    852\u001b[0m             \u001b[0mself\u001b[0m\u001b[0;34m.\u001b[0m\u001b[0m_parent_ident\u001b[0m\u001b[0;34m,\u001b[0m\u001b[0;34m\u001b[0m\u001b[0;34m\u001b[0m\u001b[0m\n\u001b[1;32m    853\u001b[0m             \u001b[0mself\u001b[0m\u001b[0;34m.\u001b[0m\u001b[0m_parent_header\u001b[0m\u001b[0;34m,\u001b[0m\u001b[0;34m\u001b[0m\u001b[0;34m\u001b[0m\u001b[0m\n",
            "\u001b[0;32m/usr/local/lib/python3.10/dist-packages/ipykernel/kernelbase.py\u001b[0m in \u001b[0;36m_input_request\u001b[0;34m(self, prompt, ident, parent, password)\u001b[0m\n\u001b[1;32m    893\u001b[0m             \u001b[0;32mexcept\u001b[0m \u001b[0mKeyboardInterrupt\u001b[0m\u001b[0;34m:\u001b[0m\u001b[0;34m\u001b[0m\u001b[0;34m\u001b[0m\u001b[0m\n\u001b[1;32m    894\u001b[0m                 \u001b[0;31m# re-raise KeyboardInterrupt, to truncate traceback\u001b[0m\u001b[0;34m\u001b[0m\u001b[0;34m\u001b[0m\u001b[0m\n\u001b[0;32m--> 895\u001b[0;31m                 \u001b[0;32mraise\u001b[0m \u001b[0mKeyboardInterrupt\u001b[0m\u001b[0;34m(\u001b[0m\u001b[0;34m\"Interrupted by user\"\u001b[0m\u001b[0;34m)\u001b[0m \u001b[0;32mfrom\u001b[0m \u001b[0;32mNone\u001b[0m\u001b[0;34m\u001b[0m\u001b[0;34m\u001b[0m\u001b[0m\n\u001b[0m\u001b[1;32m    896\u001b[0m             \u001b[0;32mexcept\u001b[0m \u001b[0mException\u001b[0m \u001b[0;32mas\u001b[0m \u001b[0me\u001b[0m\u001b[0;34m:\u001b[0m\u001b[0;34m\u001b[0m\u001b[0;34m\u001b[0m\u001b[0m\n\u001b[1;32m    897\u001b[0m                 \u001b[0mself\u001b[0m\u001b[0;34m.\u001b[0m\u001b[0mlog\u001b[0m\u001b[0;34m.\u001b[0m\u001b[0mwarning\u001b[0m\u001b[0;34m(\u001b[0m\u001b[0;34m\"Invalid Message:\"\u001b[0m\u001b[0;34m,\u001b[0m \u001b[0mexc_info\u001b[0m\u001b[0;34m=\u001b[0m\u001b[0;32mTrue\u001b[0m\u001b[0;34m)\u001b[0m\u001b[0;34m\u001b[0m\u001b[0;34m\u001b[0m\u001b[0m\n",
            "\u001b[0;31mKeyboardInterrupt\u001b[0m: Interrupted by user"
          ]
        }
      ],
      "source": [
        "# 1. 숫자 N을 입력하세요.\n",
        "n = int(input('숫자를 입력하세요: '))\n",
        "\n",
        "\n",
        "# 2. 1~N까지 합계를 구하세요.\n",
        "hap = 0\n",
        "for i in range(1, n+1, 1):\n",
        "    hap = hap + i\n",
        "print(f'1~{n}까지 합은 {hap}입니다.')\n",
        "\n",
        "\n"
      ]
    },
    {
      "cell_type": "code",
      "source": [
        "# 1. 숫자 N을 입력하세요.\n",
        "n = int(input('숫자를 입력하세요: '))\n",
        "\n",
        "\n",
        "# 2. 1~N까지 합계를 구하세요.\n",
        "hap = 0\n",
        "for i in range(1, n+1, 1):\n",
        "    print(f'{hap}+{i} = {hap + i}')"
      ],
      "metadata": {
        "colab": {
          "base_uri": "https://localhost:8080/"
        },
        "id": "IDw8RvXuPWPf",
        "outputId": "400f9d91-0352-4066-a427-05467dd2a669"
      },
      "id": "IDw8RvXuPWPf",
      "execution_count": 49,
      "outputs": [
        {
          "output_type": "stream",
          "name": "stdout",
          "text": [
            "숫자를 입력하세요: 10\n",
            "0+1 = 1\n",
            "1+2 = 3\n",
            "3+3 = 6\n",
            "6+4 = 10\n",
            "10+5 = 15\n",
            "15+6 = 21\n",
            "21+7 = 28\n",
            "28+8 = 36\n",
            "36+9 = 45\n",
            "45+10 = 55\n"
          ]
        }
      ]
    },
    {
      "cell_type": "markdown",
      "id": "aae06acb",
      "metadata": {
        "id": "aae06acb"
      },
      "source": [
        "### [실습문제]\n",
        "키보드로 양의 정수(n)을 입력 받아 1~n까지의 합을 구할 때 짝수를 제외하고 합을 구하는 프로그램을 만들어 보세요."
      ]
    },
    {
      "cell_type": "code",
      "execution_count": 55,
      "id": "c87285cf",
      "metadata": {
        "colab": {
          "base_uri": "https://localhost:8080/"
        },
        "id": "c87285cf",
        "outputId": "38bfb9e9-de85-4fed-a0c6-903b636d40b3"
      },
      "outputs": [
        {
          "output_type": "stream",
          "name": "stdout",
          "text": [
            "숫자를 입력하세요: 10\n",
            "1~10까지 홀수 합은 1입니다.\n",
            "1~10까지 홀수 합은 4입니다.\n",
            "1~10까지 홀수 합은 9입니다.\n",
            "1~10까지 홀수 합은 16입니다.\n",
            "1~10까지 홀수 합은 25입니다.\n"
          ]
        }
      ],
      "source": [
        "n = int(input('숫자를 입력하세요: '))\n",
        "\n",
        "hap = 0\n",
        "for i in range(1, n+1, 1):\n",
        "    if i%2 == 0:  # 짝수\n",
        "        continue  # skip = pass\n",
        "    else:\n",
        "        hap = hap + i\n",
        "print(f'1~{n}까지 홀수 합은 {hap}입니다.')\n"
      ]
    },
    {
      "cell_type": "code",
      "source": [
        "n = int(input('숫자를 입력하세요: '))\n",
        "\n",
        "hap = 0\n",
        "for i in range(1, n+1, 2):   # 2씩 증가\n",
        "    hap = hap + i\n",
        "print(f'1~{n}까지 홀수 합은 {hap}입니다.')"
      ],
      "metadata": {
        "colab": {
          "base_uri": "https://localhost:8080/"
        },
        "id": "Kus3epi7Q2AI",
        "outputId": "549e6ca5-2554-4116-effc-e99129e2dbc6"
      },
      "id": "Kus3epi7Q2AI",
      "execution_count": 56,
      "outputs": [
        {
          "output_type": "stream",
          "name": "stdout",
          "text": [
            "숫자를 입력하세요: 10\n",
            "1~10까지 홀수 합은 25입니다.\n"
          ]
        }
      ]
    },
    {
      "cell_type": "markdown",
      "id": "ac62e6f7",
      "metadata": {
        "id": "ac62e6f7"
      },
      "source": [
        "### 반복문: while 반복문"
      ]
    },
    {
      "cell_type": "code",
      "source": [
        "#<컴퓨팅 최적화 방법>\n",
        "\n",
        "num1, num2 = 1, 1\n",
        "\n",
        "while num1 != 0:\n",
        "    num1 = int(input(\"더할 첫 번째 숫자: \"))\n",
        "    num2 = int(input(\"더할 두 번째 숫자: \"))\n",
        "    print(f'{num1} + {num2} = {num1 + num2}')\n",
        "\n",
        "print(\"0을 입력해서 반복문을 탈출했습니다.\")"
      ],
      "metadata": {
        "colab": {
          "base_uri": "https://localhost:8080/"
        },
        "id": "_X98YMY4WmpW",
        "outputId": "433a0ef8-aa2f-4db0-d4af-26b1b2dadddf"
      },
      "id": "_X98YMY4WmpW",
      "execution_count": 59,
      "outputs": [
        {
          "output_type": "stream",
          "name": "stdout",
          "text": [
            "더할 첫 번째 숫자: 100\n",
            "더할 두 번째 숫자: 50\n",
            "100 + 50 = 150\n",
            "더할 첫 번째 숫자: 50\n",
            "더할 두 번째 숫자: 20\n",
            "50 + 20 = 70\n",
            "더할 첫 번째 숫자: -30\n",
            "더할 두 번째 숫자: -20\n",
            "-30 + -20 = -50\n",
            "더할 첫 번째 숫자: 0\n",
            "더할 두 번째 숫자: 0\n",
            "0 + 0 = 0\n",
            "0을 입력해서 반복문을 탈출했습니다.\n"
          ]
        }
      ]
    },
    {
      "cell_type": "code",
      "execution_count": 61,
      "id": "f2fb3ce9",
      "metadata": {
        "colab": {
          "base_uri": "https://localhost:8080/"
        },
        "id": "f2fb3ce9",
        "outputId": "00e7966a-f08d-4280-9714-b08c254614ea"
      },
      "outputs": [
        {
          "output_type": "stream",
          "name": "stdout",
          "text": [
            "더할 첫 번째 숫자: 100\n",
            "더할 두 번째 숫자: -100\n",
            "100 + -100 = 0\n",
            "더할 첫 번째 숫자: 100\n",
            "더할 두 번째 숫자: 0\n",
            "100 + 0 = 100\n",
            "더할 첫 번째 숫자: 0\n",
            "0을 입력해서 반복문을 탈출했습니다.\n"
          ]
        }
      ],
      "source": [
        "# 이해하기 편한 방법\n",
        "\n",
        "num1, num2 = 0, 0\n",
        "\n",
        "while True:\n",
        "    num1 = int(input(\"더할 첫 번째 숫자: \"))\n",
        "    if num1 == 0:\n",
        "        break\n",
        "\n",
        "    num2 = int(input(\"더할 두 번째 숫자: \"))\n",
        "\n",
        "    print(f'{num1} + {num2} = {num1 + num2}')\n",
        "\n",
        "print(\"0을 입력해서 반복문을 탈출했습니다.\")"
      ]
    },
    {
      "cell_type": "markdown",
      "id": "02a797a4",
      "metadata": {
        "id": "02a797a4"
      },
      "source": [
        "### [실습문제] 도둑잡기 게임 만들기\n",
        "경찰에 쫓기던 범인이 3개의 방 중에 한 곳에 숨어버렸습니다. 범인은 방문을 열 때마다 무작위로 3개의 방 중 하나의 방으로 이동합니다. 3개의 방 중 하나의 방을 선택했을 때 범인이 있다면 100점, 없을 때 -10점을 부여하고 범인을 잡으면 게임을 종료하는 프로그램을 만들어 보세요."
      ]
    },
    {
      "cell_type": "code",
      "execution_count": 69,
      "id": "e08b9dc4",
      "metadata": {
        "colab": {
          "base_uri": "https://localhost:8080/"
        },
        "id": "e08b9dc4",
        "outputId": "eb03d28d-9391-4a67-f311-80b185bd1e4c"
      },
      "outputs": [
        {
          "output_type": "stream",
          "name": "stdout",
          "text": [
            "도둑이 숨은 방 번호는?(1,2,3): 2\n",
            "찾았다! 도둑이 있는 방입니다.\n",
            "게임이 종료됩니다.\n",
            "도둑이 있는 방은 2번 방입니다. 점수는 100점!\n"
          ]
        }
      ],
      "source": [
        "import random\n",
        "\n",
        "score = 0\n",
        "\n",
        "while True:\n",
        "    room = random.randint(1,3)  #  1 ~ 3 정수 중 임의의 수 선택(도둑이 숨은방)\n",
        "    n = int(input('도둑이 숨은 방 번호는?(1,2,3): '))  # 경찰이 선택한 방\n",
        "    # 비교\n",
        "    if n == room:\n",
        "        print('찾았다! 도둑이 있는 방입니다.')\n",
        "        score = score + 100   # score += 100\n",
        "        break\n",
        "    else:\n",
        "        print('이 방에는 도둑이 없습니다.')\n",
        "        score = score - 10  # score -= 10\n",
        "print('게임이 종료됩니다.')\n",
        "print(f'도둑이 있는 방은 {room}번 방입니다. 점수는 {score}점!')\n",
        "\n",
        "\n",
        "\n",
        "\n",
        "\n",
        "\n"
      ]
    },
    {
      "cell_type": "markdown",
      "id": "ecdb476f",
      "metadata": {
        "id": "ecdb476f"
      },
      "source": [
        "### [실습문제] 커피 자동주문 프로그램 업그레이드\n",
        "앞에서 만들어 본 커피 자동주문 머신 프로그램을 while문을 이용하여 돈을 모두 지불할 때까지 돈을 입력 받도록 프로그램 기능 수정하기"
      ]
    },
    {
      "cell_type": "code",
      "execution_count": 76,
      "id": "2ce8fbfc",
      "metadata": {
        "scrolled": true,
        "colab": {
          "base_uri": "https://localhost:8080/"
        },
        "id": "2ce8fbfc",
        "outputId": "d6310438-7d9a-4bf5-a848-c613382189d4"
      },
      "outputs": [
        {
          "output_type": "stream",
          "name": "stdout",
          "text": [
            "[커피 자동주문 머신 메뉴]\n",
            "------------------------------\n",
            "-아메리카노는 2500원\n",
            "-카레라떼는 3000원\n",
            "-카푸치노는 3000원\n",
            "입니다. 원하시는 커피종류와 잔수를 입력하세요.\n",
            "------------------------------\n",
            "아메리카노 몇잔?1\n",
            "카페라떼 몇잔?1\n",
            "카푸치노 몇잔?1\n",
            "지불할 총 금액은  8500 원 입니다\n",
            "--------------------------------------------------\n",
            "[지불할 금액:8500] : 돈을 넣어주세요: 9000\n",
            "거스름돈은 500원 입니다.\n",
            "--------------------------------------------------\n",
            "커피 맛있게 드세요.\n"
          ]
        }
      ],
      "source": [
        "menu = '''[커피 자동주문 머신 메뉴]\n",
        "------------------------------\n",
        "-아메리카노는 2500원\n",
        "-카레라떼는 3000원\n",
        "-카푸치노는 3000원\n",
        "입니다. 원하시는 커피종류와 잔수를 입력하세요.\n",
        "------------------------------'''\n",
        "print(menu)\n",
        "coffee1 = int(input(\"아메리카노 몇잔?\"))\n",
        "coffee2 = int(input(\"카페라떼 몇잔?\"))\n",
        "coffee3 = int(input(\"카푸치노 몇잔?\"))\n",
        "\n",
        "total = coffee1*2500 + coffee2*3000 + coffee3*3000\n",
        "print(\"지불할 총 금액은 \", total, \"원 입니다\")\n",
        "\n",
        "while True:\n",
        "    print('-'*50)\n",
        "    money = int(input(f'[지불할 금액:{total}] : 돈을 넣어주세요: '))\n",
        "    if total > money :\n",
        "        print(f'입력한 금액이 부족합니다. {total - money}원을 더 넣어주세요.')\n",
        "        total = total - money\n",
        "    else:\n",
        "        print(f'거스름돈은 {money - total}원 입니다.')\n",
        "        break\n",
        "\n",
        "print('-'*50)\n",
        "print('커피 맛있게 드세요.')"
      ]
    },
    {
      "cell_type": "markdown",
      "id": "0d03701c",
      "metadata": {
        "id": "0d03701c"
      },
      "source": [
        "### [실습문제] 공이 튕긴 횟수 구하기\n",
        "공을 일정 높이에서 떨어뜨리면, 원래 높이의 1/2만큼 튀어 오릅니다. 이를 반복하다가 높이가 0.00001m보다 낮으면 튀어 오르지 않습니다. while문을 이용하여 공이 튀어 오르는 총 횟수를 구하는 프로그램을 만들어 보세요."
      ]
    },
    {
      "cell_type": "code",
      "execution_count": null,
      "id": "1ac5675e",
      "metadata": {
        "scrolled": true,
        "id": "1ac5675e"
      },
      "outputs": [],
      "source": [
        "\n"
      ]
    },
    {
      "cell_type": "markdown",
      "id": "af0e48ab",
      "metadata": {
        "id": "af0e48ab"
      },
      "source": [
        "## 3-3.난수(Random Variable)"
      ]
    },
    {
      "cell_type": "markdown",
      "id": "e34c55ca",
      "metadata": {
        "id": "e34c55ca"
      },
      "source": [
        "### [실습문제] 임의의 두 수 합 구하기\n",
        "1부터 10까지의 범위를 갖는 임의의 두 정수 a, b를 더하여 결과 출력하기"
      ]
    },
    {
      "cell_type": "code",
      "execution_count": null,
      "id": "3c007936",
      "metadata": {
        "id": "3c007936"
      },
      "outputs": [],
      "source": []
    },
    {
      "cell_type": "markdown",
      "id": "357e1bdd",
      "metadata": {
        "id": "357e1bdd"
      },
      "source": [
        "### [실습문제]\n",
        "주사위를 100번 던져서 나오는 숫자를 각 숫자별로 카운트하고 가장 많이 나온 숫자와 그 숫자의 횟수를 출력하시오."
      ]
    },
    {
      "cell_type": "code",
      "execution_count": null,
      "id": "782da2b4",
      "metadata": {
        "id": "782da2b4"
      },
      "outputs": [],
      "source": []
    },
    {
      "cell_type": "markdown",
      "id": "45e329e4",
      "metadata": {
        "id": "45e329e4"
      },
      "source": [
        "------------------------"
      ]
    },
    {
      "cell_type": "markdown",
      "id": "66025633",
      "metadata": {
        "id": "66025633"
      },
      "source": [
        "끝"
      ]
    }
  ],
  "metadata": {
    "kernelspec": {
      "display_name": "Python 3 (ipykernel)",
      "language": "python",
      "name": "python3"
    },
    "language_info": {
      "codemirror_mode": {
        "name": "ipython",
        "version": 3
      },
      "file_extension": ".py",
      "mimetype": "text/x-python",
      "name": "python",
      "nbconvert_exporter": "python",
      "pygments_lexer": "ipython3",
      "version": "3.10.9"
    },
    "vscode": {
      "interpreter": {
        "hash": "b41e41bff03a930185ac2cbea60ce521f7c8c2f5401ceb5c30214081f77ab4f5"
      }
    },
    "colab": {
      "provenance": [],
      "include_colab_link": true
    }
  },
  "nbformat": 4,
  "nbformat_minor": 5
}