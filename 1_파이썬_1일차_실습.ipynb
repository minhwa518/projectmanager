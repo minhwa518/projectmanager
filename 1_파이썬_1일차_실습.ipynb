{
  "nbformat": 4,
  "nbformat_minor": 0,
  "metadata": {
    "colab": {
      "provenance": [],
      "authorship_tag": "ABX9TyNP8F8Xl+6ahlLfbSfdrGlt",
      "include_colab_link": true
    },
    "kernelspec": {
      "name": "python3",
      "display_name": "Python 3"
    },
    "language_info": {
      "name": "python"
    }
  },
  "cells": [
    {
      "cell_type": "markdown",
      "metadata": {
        "id": "view-in-github",
        "colab_type": "text"
      },
      "source": [
        "<a href=\"https://colab.research.google.com/github/minhwa518/projectmanager/blob/main/1_%ED%8C%8C%EC%9D%B4%EC%8D%AC_1%EC%9D%BC%EC%B0%A8_%EC%8B%A4%EC%8A%B5.ipynb\" target=\"_parent\"><img src=\"https://colab.research.google.com/assets/colab-badge.svg\" alt=\"Open In Colab\"/></a>"
      ]
    },
    {
      "cell_type": "markdown",
      "source": [
        "# 파이썬 기초 프로그래밍 - 1일차 실습\n"
      ],
      "metadata": {
        "id": "fNg4bw0WeVhd"
      }
    },
    {
      "cell_type": "markdown",
      "source": [
        "## 1.코랩에서 파이썬 사용하기"
      ],
      "metadata": {
        "id": "AsNxfU_HekP3"
      }
    },
    {
      "cell_type": "markdown",
      "source": [
        "### 1-1.파이썬 실습 1일차"
      ],
      "metadata": {
        "id": "j4dFWDykgUZj"
      }
    },
    {
      "cell_type": "markdown",
      "source": [
        "#### 시작"
      ],
      "metadata": {
        "id": "hSGo2tX4gfTq"
      }
    },
    {
      "cell_type": "code",
      "source": [
        "import sys\n",
        "\n",
        "sys.version"
      ],
      "metadata": {
        "colab": {
          "base_uri": "https://localhost:8080/",
          "height": 35
        },
        "id": "cF2jEeU4e2zU",
        "outputId": "a8a3ab8f-6b63-409f-dbce-08fc4e62c265"
      },
      "execution_count": null,
      "outputs": [
        {
          "output_type": "execute_result",
          "data": {
            "text/plain": [
              "'3.10.12 (main, Jun 11 2023, 05:26:28) [GCC 11.4.0]'"
            ],
            "application/vnd.google.colaboratory.intrinsic+json": {
              "type": "string"
            }
          },
          "metadata": {},
          "execution_count": 1
        }
      ]
    },
    {
      "cell_type": "markdown",
      "source": [
        "# *** 간단계산기 프로그램**\n",
        "\n"
      ],
      "metadata": {
        "id": "QGm2FzK_fK6W"
      }
    },
    {
      "cell_type": "code",
      "source": [
        "a = 100\n",
        "b = 50\n",
        "print('덧셈: ', a + b)\n",
        "print('뺄셈: ', a - b)\n",
        "print('곱셈: ', a * b)\n",
        "print('나눗셈: ', a / b)"
      ],
      "metadata": {
        "id": "CJIvw87vfwbe"
      },
      "execution_count": null,
      "outputs": []
    }
  ]
}