{
  "cells": [
    {
      "cell_type": "markdown",
      "metadata": {
        "id": "view-in-github",
        "colab_type": "text"
      },
      "source": [
        "<a href=\"https://colab.research.google.com/github/minhwa518/projectmanager/blob/main/1_%ED%8C%8C%EC%9D%B4%EC%8D%AC%EA%B8%B0%EC%B4%88_04_%ED%95%A8%EC%88%98%EC%99%80%EB%AA%A8%EB%93%88_%EC%8B%A4%EC%8A%B5.ipynb\" target=\"_parent\"><img src=\"https://colab.research.google.com/assets/colab-badge.svg\" alt=\"Open In Colab\"/></a>"
      ]
    },
    {
      "cell_type": "markdown",
      "id": "25f81d8c",
      "metadata": {
        "id": "25f81d8c"
      },
      "source": [
        "# 파이썬 기초 다지기"
      ]
    },
    {
      "cell_type": "markdown",
      "id": "3f3da3bd",
      "metadata": {
        "id": "3f3da3bd"
      },
      "source": [
        "## 4- 함수와 모듈\n",
        "데이터 추상화하고 구조화하기"
      ]
    },
    {
      "cell_type": "code",
      "execution_count": null,
      "id": "b2055fa4",
      "metadata": {
        "id": "b2055fa4"
      },
      "outputs": [],
      "source": [
        "import random   # random.py (모듈)\n",
        "\n",
        "room = random.randint(1, 3)  # 1,2,3중에 임의의 수\n"
      ]
    },
    {
      "cell_type": "markdown",
      "id": "0c52a67e",
      "metadata": {
        "id": "0c52a67e"
      },
      "source": [
        "----------------------------------"
      ]
    },
    {
      "cell_type": "markdown",
      "id": "aee8f2e8",
      "metadata": {
        "id": "aee8f2e8"
      },
      "source": [
        "## 4-1.함수 < 모듈 < 패키기"
      ]
    },
    {
      "cell_type": "markdown",
      "id": "e89f3546",
      "metadata": {
        "id": "e89f3546"
      },
      "source": [
        "### 함수 정의하기"
      ]
    },
    {
      "cell_type": "code",
      "execution_count": null,
      "id": "4f161d86",
      "metadata": {
        "id": "4f161d86"
      },
      "outputs": [],
      "source": [
        "\n"
      ]
    },
    {
      "cell_type": "markdown",
      "id": "cb89ea65",
      "metadata": {
        "id": "cb89ea65"
      },
      "source": [
        "### 함수의 구조\n",
        "매개변수와 리턴값에 따른 함수의 유형 예"
      ]
    },
    {
      "cell_type": "markdown",
      "id": "8acceb64",
      "metadata": {
        "id": "8acceb64"
      },
      "source": [
        "- 매개변수(X), 리턴값(X)"
      ]
    },
    {
      "cell_type": "code",
      "execution_count": null,
      "id": "57a55c92",
      "metadata": {
        "id": "57a55c92"
      },
      "outputs": [],
      "source": [
        "def func():\n",
        "    print('안녕하세요!')\n",
        "\n",
        "print( func() )"
      ]
    },
    {
      "cell_type": "markdown",
      "id": "aba4c5e6",
      "metadata": {
        "id": "aba4c5e6"
      },
      "source": [
        "- 매개변수(X), 리턴값(O)"
      ]
    },
    {
      "cell_type": "code",
      "execution_count": null,
      "id": "aa699b58",
      "metadata": {
        "id": "aa699b58"
      },
      "outputs": [],
      "source": [
        "def func():\n",
        "    print('안녕하세요!')\n",
        "    return '처리완료!'\n",
        "\n",
        "print( func() )"
      ]
    },
    {
      "cell_type": "markdown",
      "id": "21f24a11",
      "metadata": {
        "id": "21f24a11"
      },
      "source": [
        "- 매개변수(O), 리턴값(X)"
      ]
    },
    {
      "cell_type": "code",
      "execution_count": null,
      "id": "f1c1db85",
      "metadata": {
        "id": "f1c1db85"
      },
      "outputs": [],
      "source": [
        "def func(a, b):\n",
        "    print('덧셈: %d + %d = %d' % (a, b, a+b))\n",
        "\n",
        "print( func(5, 7) )"
      ]
    },
    {
      "cell_type": "markdown",
      "id": "c80d6c02",
      "metadata": {
        "id": "c80d6c02"
      },
      "source": [
        "- 매개변수(O), 리턴값(O)"
      ]
    },
    {
      "cell_type": "code",
      "execution_count": null,
      "id": "d6d46e65",
      "metadata": {
        "id": "d6d46e65"
      },
      "outputs": [],
      "source": [
        "def func(a, b):\n",
        "    print('덧셈: %d + %d = %d' % (a, b, a+b))\n",
        "    return a+b\n",
        "\n",
        "print( func(5, 7) )"
      ]
    },
    {
      "cell_type": "markdown",
      "id": "fbe6e1c6",
      "metadata": {
        "id": "fbe6e1c6"
      },
      "source": [
        "### [실습문제] 암스트롱수 구하기\n",
        "다음 조건을 참고하여 암스트롱수를 구하는 함수를 만들어 출력하는 프로그램을 만들어 보세요.\n",
        "- **암스트롱수** : 세 자리의 정수 중에서 각 자리의 수를 세 제곱한 수의 합과 자신이 같은 수"
      ]
    },
    {
      "cell_type": "code",
      "execution_count": null,
      "id": "3c387d60",
      "metadata": {
        "colab": {
          "base_uri": "https://localhost:8080/"
        },
        "id": "3c387d60",
        "outputId": "32dafbe9-a3f3-44ab-ff15-87c79df64438"
      },
      "outputs": [
        {
          "output_type": "stream",
          "name": "stdout",
          "text": [
            "[153] is armstrong number!\n",
            "[370] is armstrong number!\n",
            "[371] is armstrong number!\n",
            "[407] is armstrong number!\n"
          ]
        }
      ],
      "source": [
        "def is_arm(N):  # 암스트롱 수 찾는 함수\n",
        "    n = str(N)    # 정수를 문자열로 변환\n",
        "    a = int(n[0]) # 100의 자리수\n",
        "    b = int(n[1]) # 10의 자리수\n",
        "    c = int(n[2]) # 1의 자리수\n",
        "    if N == (a**3 + b**3 + c**3):  # 암스트롱수의 조건\n",
        "        return True\n",
        "    else:\n",
        "        return False\n",
        "\n",
        "for i in range(100, 1000):\n",
        "    if is_arm(i):\n",
        "        print(f'[{i}] is armstrong number!')\n"
      ]
    },
    {
      "cell_type": "code",
      "source": [
        "def is_arm(n):\n",
        "    num= N"
      ],
      "metadata": {
        "id": "u4yBXTtHRXQ3"
      },
      "id": "u4yBXTtHRXQ3",
      "execution_count": null,
      "outputs": []
    },
    {
      "cell_type": "markdown",
      "id": "a78bd48d",
      "metadata": {
        "id": "a78bd48d"
      },
      "source": [
        "### [실습문제]\n",
        "앞에서 만든 커피 자동주문 머신 프로그램을 함수를 이용하여 만들어 보세요."
      ]
    },
    {
      "cell_type": "code",
      "execution_count": null,
      "id": "ea29d25d",
      "metadata": {
        "id": "ea29d25d"
      },
      "outputs": [],
      "source": [
        "menu = '''[커피 자동주문 머신 메뉴]\n",
        "------------------------------\n",
        "-아메리카노는 2500원\n",
        "-카레라떼는 3000원\n",
        "-카푸치노는 3000원\n",
        "입니다. 원하시는 커피종류와 잔수를 입력하세요.\n",
        "------------------------------'''\n",
        "print(menu)\n",
        "coffee1 = int(input(\"아메리카노 몇잔?: \"))\n",
        "coffee2 = int(input(\"카페라떼 몇잔?: \"))\n",
        "coffee3 = int(input(\"카푸치노 몇잔?: \"))\n",
        "\n",
        "\n",
        "\n",
        "\n"
      ]
    },
    {
      "cell_type": "code",
      "source": [
        "def coffeeMachine(coffee1, coffee2, coffee3):\n",
        "    total = coffee1*2500 + coffee2*3000 + coffee3*3000\n",
        "    print(\"지불할 총 금액은 \", total, \"원 입니다\")\n",
        "\n",
        "    while True:\n",
        "        print('-'*50)\n",
        "        money = int(input(f'[지불할 금액:{total}] : 돈을 넣어주세요: '))\n",
        "        if total > money :\n",
        "            print(f'입력한 금액이 부족합니다. {total - money}원을 더 넣어주세요.')\n",
        "            total = total - money\n",
        "        else:\n",
        "            print(f'거스름돈은 {money - total}원 입니다.')\n",
        "            break\n",
        "\n",
        "    print('-'*50)\n",
        "    print('커피 맛있게 드세요.')\n",
        "\n",
        "menu = '''[커피 자동주문 머신 메뉴]\n",
        "------------------------------\n",
        "-아메리카노는 2500원\n",
        "-카레라떼는 3000원\n",
        "-카푸치노는 3000원\n",
        "입니다. 원하시는 커피종류와 잔수를 입력하세요.\n",
        "------------------------------'''\n",
        "print(menu)\n",
        "coffee1 = int(input(\"아메리카노 몇잔?\"))\n",
        "coffee2 = int(input(\"카페라떼 몇잔?\"))\n",
        "coffee3 = int(input(\"카푸치노 몇잔?\"))\n",
        "\n",
        "coffeeMachine(coffee1, coffee2, coffee3)   # 함수 호출"
      ],
      "metadata": {
        "colab": {
          "base_uri": "https://localhost:8080/"
        },
        "id": "hZjJA3MlRnpz",
        "outputId": "b7cf4a8b-3048-49c2-ea68-4a6a9915a925"
      },
      "id": "hZjJA3MlRnpz",
      "execution_count": null,
      "outputs": [
        {
          "output_type": "stream",
          "name": "stdout",
          "text": [
            "[커피 자동주문 머신 메뉴]\n",
            "------------------------------\n",
            "-아메리카노는 2500원\n",
            "-카레라떼는 3000원\n",
            "-카푸치노는 3000원\n",
            "입니다. 원하시는 커피종류와 잔수를 입력하세요.\n",
            "------------------------------\n",
            "아메리카노 몇잔?1\n",
            "카페라떼 몇잔?1\n",
            "카푸치노 몇잔?1\n",
            "지불할 총 금액은  8500 원 입니다\n",
            "--------------------------------------------------\n",
            "[지불할 금액:8500] : 돈을 넣어주세요: 10000\n",
            "거스름돈은 1500원 입니다.\n",
            "--------------------------------------------------\n",
            "커피 맛있게 드세요.\n"
          ]
        }
      ]
    },
    {
      "cell_type": "markdown",
      "source": [
        "### lamda함수  -> 변수처럼 쓰임"
      ],
      "metadata": {
        "id": "gRPOIomqYLJ1"
      },
      "id": "gRPOIomqYLJ1"
    },
    {
      "cell_type": "code",
      "source": [
        "hap = lambda a, b: a+b\n",
        "print(hap(-5, 20))"
      ],
      "metadata": {
        "colab": {
          "base_uri": "https://localhost:8080/"
        },
        "id": "xMxGTRiFTfpz",
        "outputId": "0ed2352e-09e1-4c6c-8b86-5ce13c60252f"
      },
      "id": "xMxGTRiFTfpz",
      "execution_count": null,
      "outputs": [
        {
          "output_type": "stream",
          "name": "stdout",
          "text": [
            "15\n"
          ]
        }
      ]
    },
    {
      "cell_type": "code",
      "source": [
        "mylist = [100,200,300,400,500]\n",
        "\n",
        "def add10(num):\n",
        "    return num+10\n",
        "\n",
        "for idx, i in enumerate(mylist):    # enumerate(): 인덱스 값을 함께 사용할 수 있는 함수\n",
        "    print(idx, i, add10(i))\n",
        "print(mylist)\n"
      ],
      "metadata": {
        "colab": {
          "base_uri": "https://localhost:8080/"
        },
        "id": "ZoV7DLBoZeT9",
        "outputId": "ff556f2e-c506-4473-d0d6-28b5af1ebc6e"
      },
      "id": "ZoV7DLBoZeT9",
      "execution_count": null,
      "outputs": [
        {
          "output_type": "stream",
          "name": "stdout",
          "text": [
            "0 100 110\n",
            "1 200 210\n",
            "2 300 310\n",
            "3 400 410\n",
            "4 500 510\n",
            "[100, 200, 300, 400, 500]\n"
          ]
        }
      ]
    },
    {
      "cell_type": "code",
      "source": [
        "mylist = [100,200,300,400,500]\n",
        "\n",
        "def add10(num):\n",
        "    return num+10\n",
        "\n",
        "for idx, i in enumerate(mylist):    # enumerate(): 인덱스 값을 함께 사용할 수 있는 함수\n",
        "    # print(idx, i, add10(i))\n",
        "    mylist[idx] = add10(i)   # 리스트의 값을 add10()함수가 적용된 값으로 교체함\n",
        "print(mylist)"
      ],
      "metadata": {
        "colab": {
          "base_uri": "https://localhost:8080/"
        },
        "id": "R-mBjiHnbiCW",
        "outputId": "4ae3919a-cfb7-4a88-84a5-5f34e1d908d1"
      },
      "id": "R-mBjiHnbiCW",
      "execution_count": null,
      "outputs": [
        {
          "output_type": "stream",
          "name": "stdout",
          "text": [
            "[110, 210, 310, 410, 510]\n"
          ]
        }
      ]
    },
    {
      "cell_type": "code",
      "source": [
        "mylist = [100,200,300,400,500]\n",
        "\n",
        "add10 = lambda num: num+10   # lambda() 함수로 변경\n",
        "\n",
        "for idx, i in enumerate(mylist):    # enumerate(): 인덱스 값을 함께 사용할 수 있는 함수\n",
        "    # print(idx, i, add10(i))\n",
        "    mylist[idx] = add10(i)   # 리스트의 값을 add10()함수가 적용된 값으로 교체함\n",
        "print(mylist)"
      ],
      "metadata": {
        "colab": {
          "base_uri": "https://localhost:8080/"
        },
        "id": "9qlS1AmgbLIY",
        "outputId": "e3d43ca8-6550-454f-cf88-d4809c9f03f7"
      },
      "id": "9qlS1AmgbLIY",
      "execution_count": null,
      "outputs": [
        {
          "output_type": "stream",
          "name": "stdout",
          "text": [
            "[110, 210, 310, 410, 510]\n"
          ]
        }
      ]
    },
    {
      "cell_type": "code",
      "source": [
        "mylist = [100,200,300,400,500]\n",
        "\n",
        "add10 = lambda num: num+10   # lambda() 함수로 변경\n",
        "\n",
        "mylist = (list(map(add10, mylist)))\n",
        "print(mylist)"
      ],
      "metadata": {
        "colab": {
          "base_uri": "https://localhost:8080/"
        },
        "id": "Gt7iRBdsbroI",
        "outputId": "b3c7c8fc-80f4-4eae-aa93-e1475fca216a"
      },
      "id": "Gt7iRBdsbroI",
      "execution_count": null,
      "outputs": [
        {
          "output_type": "stream",
          "name": "stdout",
          "text": [
            "[110, 210, 310, 410, 510]\n"
          ]
        }
      ]
    },
    {
      "cell_type": "code",
      "source": [
        "list_1 = [1,2,3,4,5]\n",
        "list_2 = [2,4,6,8,10]\n",
        "\n",
        "곱하기함수 = lambda x, y: x*y\n",
        "최종리스트 = list(map(곱하기함수, list_1, list_2))\n",
        "최종리스트"
      ],
      "metadata": {
        "colab": {
          "base_uri": "https://localhost:8080/"
        },
        "id": "9G_8N7ILcOU0",
        "outputId": "097ad35f-c6f0-49e3-ec96-28bdf0785962"
      },
      "id": "9G_8N7ILcOU0",
      "execution_count": null,
      "outputs": [
        {
          "output_type": "execute_result",
          "data": {
            "text/plain": [
              "[2, 8, 18, 32, 50]"
            ]
          },
          "metadata": {},
          "execution_count": 23
        }
      ]
    },
    {
      "cell_type": "markdown",
      "id": "45e329e4",
      "metadata": {
        "id": "45e329e4"
      },
      "source": [
        "------------------------"
      ]
    },
    {
      "cell_type": "markdown",
      "id": "66025633",
      "metadata": {
        "id": "66025633"
      },
      "source": [
        "끝"
      ]
    }
  ],
  "metadata": {
    "kernelspec": {
      "display_name": "Python 3 (ipykernel)",
      "language": "python",
      "name": "python3"
    },
    "language_info": {
      "codemirror_mode": {
        "name": "ipython",
        "version": 3
      },
      "file_extension": ".py",
      "mimetype": "text/x-python",
      "name": "python",
      "nbconvert_exporter": "python",
      "pygments_lexer": "ipython3",
      "version": "3.10.9"
    },
    "vscode": {
      "interpreter": {
        "hash": "b41e41bff03a930185ac2cbea60ce521f7c8c2f5401ceb5c30214081f77ab4f5"
      }
    },
    "colab": {
      "provenance": [],
      "include_colab_link": true
    }
  },
  "nbformat": 4,
  "nbformat_minor": 5
}